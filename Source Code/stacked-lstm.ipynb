{
 "cells": [
  {
   "cell_type": "code",
   "execution_count": 1,
   "id": "4d7180d3",
   "metadata": {
    "_cell_guid": "b1076dfc-b9ad-4769-8c92-a6c4dae69d19",
    "_uuid": "8f2839f25d086af736a60e9eeb907d3b93b6e0e5",
    "execution": {
     "iopub.execute_input": "2022-12-04T18:16:07.340756Z",
     "iopub.status.busy": "2022-12-04T18:16:07.340356Z",
     "iopub.status.idle": "2022-12-04T18:16:14.334540Z",
     "shell.execute_reply": "2022-12-04T18:16:14.332994Z"
    },
    "papermill": {
     "duration": 7.002508,
     "end_time": "2022-12-04T18:16:14.337297",
     "exception": false,
     "start_time": "2022-12-04T18:16:07.334789",
     "status": "completed"
    },
    "tags": []
   },
   "outputs": [
    {
     "name": "stdout",
     "output_type": "stream",
     "text": [
      "/kaggle/input/futureprediction/items.csv\n",
      "/kaggle/input/futureprediction/sample_submission.csv\n",
      "/kaggle/input/futureprediction/item_categories.csv\n",
      "/kaggle/input/futureprediction/sales_train.csv\n",
      "/kaggle/input/futureprediction/shops.csv\n",
      "/kaggle/input/futureprediction/test.csv\n"
     ]
    }
   ],
   "source": [
    "# This Python 3 environment comes with many helpful analytics libraries installed\n",
    "# It is defined by the kaggle/python Docker image: https://github.com/kaggle/docker-python\n",
    "# For example, here's several helpful packages to load\n",
    "\n",
    "import numpy as np # linear algebra\n",
    "import pandas as pd # data processing, CSV file I/O (e.g. pd.read_csv)\n",
    "from keras.layers import Dense,LSTM,Embedding,Dropout\n",
    "from keras.models import Sequential,Model\n",
    "\n",
    "# Input data files are available in the read-only \"../input/\" directory\n",
    "# For example, running this (by clicking run or pressing Shift+Enter) will list all files under the input directory\n",
    "\n",
    "import os\n",
    "for dirname, _, filenames in os.walk('/kaggle/input'):\n",
    "    for filename in filenames:\n",
    "        print(os.path.join(dirname, filename))\n",
    "\n",
    "# You can write up to 20GB to the current directory (/kaggle/working/) that gets preserved as output when you create a version using \"Save & Run All\" \n",
    "# You can also write temporary files to /kaggle/temp/, but they won't be saved outside of the current session"
   ]
  },
  {
   "cell_type": "code",
   "execution_count": 2,
   "id": "7363d357",
   "metadata": {
    "execution": {
     "iopub.execute_input": "2022-12-04T18:16:14.346338Z",
     "iopub.status.busy": "2022-12-04T18:16:14.345390Z",
     "iopub.status.idle": "2022-12-04T18:16:14.501480Z",
     "shell.execute_reply": "2022-12-04T18:16:14.500729Z"
    },
    "papermill": {
     "duration": 0.162677,
     "end_time": "2022-12-04T18:16:14.503546",
     "exception": false,
     "start_time": "2022-12-04T18:16:14.340869",
     "status": "completed"
    },
    "tags": []
   },
   "outputs": [],
   "source": [
    "item_cat=pd.read_csv('/kaggle/input/futureprediction/item_categories.csv')\n",
    "items=pd.read_csv('/kaggle/input/futureprediction/items.csv')\n",
    "shops=pd.read_csv('/kaggle/input/futureprediction/shops.csv')\n",
    "sample_sub=pd.read_csv('/kaggle/input/futureprediction/sample_submission.csv')"
   ]
  },
  {
   "cell_type": "code",
   "execution_count": 3,
   "id": "015195cb",
   "metadata": {
    "execution": {
     "iopub.execute_input": "2022-12-04T18:16:14.512254Z",
     "iopub.status.busy": "2022-12-04T18:16:14.511915Z",
     "iopub.status.idle": "2022-12-04T18:16:15.252343Z",
     "shell.execute_reply": "2022-12-04T18:16:15.250846Z"
    },
    "papermill": {
     "duration": 0.747485,
     "end_time": "2022-12-04T18:16:15.254750",
     "exception": false,
     "start_time": "2022-12-04T18:16:14.507265",
     "status": "completed"
    },
    "tags": []
   },
   "outputs": [],
   "source": [
    "df_train=pd.read_csv('/kaggle/input/futureprediction/sales_train.csv')"
   ]
  },
  {
   "cell_type": "code",
   "execution_count": 4,
   "id": "ef7bcd61",
   "metadata": {
    "execution": {
     "iopub.execute_input": "2022-12-04T18:16:15.263326Z",
     "iopub.status.busy": "2022-12-04T18:16:15.262956Z",
     "iopub.status.idle": "2022-12-04T18:16:15.405355Z",
     "shell.execute_reply": "2022-12-04T18:16:15.404703Z"
    },
    "papermill": {
     "duration": 0.149065,
     "end_time": "2022-12-04T18:16:15.407481",
     "exception": false,
     "start_time": "2022-12-04T18:16:15.258416",
     "status": "completed"
    },
    "tags": []
   },
   "outputs": [],
   "source": [
    "df_train['date']=pd.to_datetime(df_train['date'],format ='%d.%m.%Y')"
   ]
  },
  {
   "cell_type": "code",
   "execution_count": 5,
   "id": "e83665ce",
   "metadata": {
    "execution": {
     "iopub.execute_input": "2022-12-04T18:16:15.415620Z",
     "iopub.status.busy": "2022-12-04T18:16:15.415200Z",
     "iopub.status.idle": "2022-12-04T18:16:16.058841Z",
     "shell.execute_reply": "2022-12-04T18:16:16.057548Z"
    },
    "papermill": {
     "duration": 0.650755,
     "end_time": "2022-12-04T18:16:16.061736",
     "exception": false,
     "start_time": "2022-12-04T18:16:15.410981",
     "status": "completed"
    },
    "tags": []
   },
   "outputs": [
    {
     "data": {
      "text/html": [
       "<div>\n",
       "<style scoped>\n",
       "    .dataframe tbody tr th:only-of-type {\n",
       "        vertical-align: middle;\n",
       "    }\n",
       "\n",
       "    .dataframe tbody tr th {\n",
       "        vertical-align: top;\n",
       "    }\n",
       "\n",
       "    .dataframe thead tr th {\n",
       "        text-align: left;\n",
       "    }\n",
       "</style>\n",
       "<table border=\"1\" class=\"dataframe\">\n",
       "  <thead>\n",
       "    <tr>\n",
       "      <th></th>\n",
       "      <th>shop_id</th>\n",
       "      <th>item_id</th>\n",
       "      <th colspan=\"11\" halign=\"left\">item_cnt_day</th>\n",
       "    </tr>\n",
       "    <tr>\n",
       "      <th>date_block_num</th>\n",
       "      <th></th>\n",
       "      <th></th>\n",
       "      <th>0</th>\n",
       "      <th>1</th>\n",
       "      <th>2</th>\n",
       "      <th>3</th>\n",
       "      <th>4</th>\n",
       "      <th>5</th>\n",
       "      <th>6</th>\n",
       "      <th>7</th>\n",
       "      <th>8</th>\n",
       "      <th>9</th>\n",
       "      <th>10</th>\n",
       "    </tr>\n",
       "  </thead>\n",
       "  <tbody>\n",
       "    <tr>\n",
       "      <th>0</th>\n",
       "      <td>0</td>\n",
       "      <td>30</td>\n",
       "      <td>0</td>\n",
       "      <td>31</td>\n",
       "      <td>0</td>\n",
       "      <td>0</td>\n",
       "      <td>0</td>\n",
       "      <td>0</td>\n",
       "      <td>0</td>\n",
       "      <td>0</td>\n",
       "      <td>0</td>\n",
       "      <td>0</td>\n",
       "      <td>0</td>\n",
       "    </tr>\n",
       "    <tr>\n",
       "      <th>1</th>\n",
       "      <td>0</td>\n",
       "      <td>31</td>\n",
       "      <td>0</td>\n",
       "      <td>11</td>\n",
       "      <td>0</td>\n",
       "      <td>0</td>\n",
       "      <td>0</td>\n",
       "      <td>0</td>\n",
       "      <td>0</td>\n",
       "      <td>0</td>\n",
       "      <td>0</td>\n",
       "      <td>0</td>\n",
       "      <td>0</td>\n",
       "    </tr>\n",
       "    <tr>\n",
       "      <th>2</th>\n",
       "      <td>0</td>\n",
       "      <td>32</td>\n",
       "      <td>6</td>\n",
       "      <td>10</td>\n",
       "      <td>0</td>\n",
       "      <td>0</td>\n",
       "      <td>0</td>\n",
       "      <td>0</td>\n",
       "      <td>0</td>\n",
       "      <td>0</td>\n",
       "      <td>0</td>\n",
       "      <td>0</td>\n",
       "      <td>0</td>\n",
       "    </tr>\n",
       "    <tr>\n",
       "      <th>3</th>\n",
       "      <td>0</td>\n",
       "      <td>33</td>\n",
       "      <td>3</td>\n",
       "      <td>3</td>\n",
       "      <td>0</td>\n",
       "      <td>0</td>\n",
       "      <td>0</td>\n",
       "      <td>0</td>\n",
       "      <td>0</td>\n",
       "      <td>0</td>\n",
       "      <td>0</td>\n",
       "      <td>0</td>\n",
       "      <td>0</td>\n",
       "    </tr>\n",
       "    <tr>\n",
       "      <th>4</th>\n",
       "      <td>0</td>\n",
       "      <td>35</td>\n",
       "      <td>1</td>\n",
       "      <td>14</td>\n",
       "      <td>0</td>\n",
       "      <td>0</td>\n",
       "      <td>0</td>\n",
       "      <td>0</td>\n",
       "      <td>0</td>\n",
       "      <td>0</td>\n",
       "      <td>0</td>\n",
       "      <td>0</td>\n",
       "      <td>0</td>\n",
       "    </tr>\n",
       "    <tr>\n",
       "      <th>...</th>\n",
       "      <td>...</td>\n",
       "      <td>...</td>\n",
       "      <td>...</td>\n",
       "      <td>...</td>\n",
       "      <td>...</td>\n",
       "      <td>...</td>\n",
       "      <td>...</td>\n",
       "      <td>...</td>\n",
       "      <td>...</td>\n",
       "      <td>...</td>\n",
       "      <td>...</td>\n",
       "      <td>...</td>\n",
       "      <td>...</td>\n",
       "    </tr>\n",
       "    <tr>\n",
       "      <th>235421</th>\n",
       "      <td>59</td>\n",
       "      <td>22150</td>\n",
       "      <td>0</td>\n",
       "      <td>0</td>\n",
       "      <td>0</td>\n",
       "      <td>0</td>\n",
       "      <td>0</td>\n",
       "      <td>0</td>\n",
       "      <td>1</td>\n",
       "      <td>1</td>\n",
       "      <td>0</td>\n",
       "      <td>0</td>\n",
       "      <td>0</td>\n",
       "    </tr>\n",
       "    <tr>\n",
       "      <th>235422</th>\n",
       "      <td>59</td>\n",
       "      <td>22151</td>\n",
       "      <td>2</td>\n",
       "      <td>0</td>\n",
       "      <td>1</td>\n",
       "      <td>0</td>\n",
       "      <td>0</td>\n",
       "      <td>0</td>\n",
       "      <td>0</td>\n",
       "      <td>0</td>\n",
       "      <td>0</td>\n",
       "      <td>0</td>\n",
       "      <td>0</td>\n",
       "    </tr>\n",
       "    <tr>\n",
       "      <th>235423</th>\n",
       "      <td>59</td>\n",
       "      <td>22154</td>\n",
       "      <td>1</td>\n",
       "      <td>0</td>\n",
       "      <td>0</td>\n",
       "      <td>0</td>\n",
       "      <td>0</td>\n",
       "      <td>0</td>\n",
       "      <td>0</td>\n",
       "      <td>0</td>\n",
       "      <td>0</td>\n",
       "      <td>0</td>\n",
       "      <td>0</td>\n",
       "    </tr>\n",
       "    <tr>\n",
       "      <th>235424</th>\n",
       "      <td>59</td>\n",
       "      <td>22155</td>\n",
       "      <td>0</td>\n",
       "      <td>0</td>\n",
       "      <td>0</td>\n",
       "      <td>0</td>\n",
       "      <td>0</td>\n",
       "      <td>0</td>\n",
       "      <td>1</td>\n",
       "      <td>0</td>\n",
       "      <td>0</td>\n",
       "      <td>0</td>\n",
       "      <td>0</td>\n",
       "    </tr>\n",
       "    <tr>\n",
       "      <th>235425</th>\n",
       "      <td>59</td>\n",
       "      <td>22167</td>\n",
       "      <td>0</td>\n",
       "      <td>0</td>\n",
       "      <td>0</td>\n",
       "      <td>0</td>\n",
       "      <td>0</td>\n",
       "      <td>0</td>\n",
       "      <td>0</td>\n",
       "      <td>0</td>\n",
       "      <td>0</td>\n",
       "      <td>1</td>\n",
       "      <td>0</td>\n",
       "    </tr>\n",
       "  </tbody>\n",
       "</table>\n",
       "<p>235426 rows × 13 columns</p>\n",
       "</div>"
      ],
      "text/plain": [
       "               shop_id item_id item_cnt_day                               \n",
       "date_block_num                            0   1  2  3  4  5  6  7  8  9 10\n",
       "0                    0      30            0  31  0  0  0  0  0  0  0  0  0\n",
       "1                    0      31            0  11  0  0  0  0  0  0  0  0  0\n",
       "2                    0      32            6  10  0  0  0  0  0  0  0  0  0\n",
       "3                    0      33            3   3  0  0  0  0  0  0  0  0  0\n",
       "4                    0      35            1  14  0  0  0  0  0  0  0  0  0\n",
       "...                ...     ...          ...  .. .. .. .. .. .. .. .. .. ..\n",
       "235421              59   22150            0   0  0  0  0  0  1  1  0  0  0\n",
       "235422              59   22151            2   0  1  0  0  0  0  0  0  0  0\n",
       "235423              59   22154            1   0  0  0  0  0  0  0  0  0  0\n",
       "235424              59   22155            0   0  0  0  0  0  1  0  0  0  0\n",
       "235425              59   22167            0   0  0  0  0  0  0  0  0  1  0\n",
       "\n",
       "[235426 rows x 13 columns]"
      ]
     },
     "execution_count": 5,
     "metadata": {},
     "output_type": "execute_result"
    }
   ],
   "source": [
    "dataset=df_train.pivot_table(index=['shop_id','item_id'],values=['item_cnt_day'],columns=['date_block_num'],fill_value=0,aggfunc='sum')\n",
    "dataset.reset_index(inplace=True)\n",
    "dataset"
   ]
  },
  {
   "cell_type": "code",
   "execution_count": 6,
   "id": "31d1c18d",
   "metadata": {
    "execution": {
     "iopub.execute_input": "2022-12-04T18:16:16.071206Z",
     "iopub.status.busy": "2022-12-04T18:16:16.070835Z",
     "iopub.status.idle": "2022-12-04T18:16:16.152900Z",
     "shell.execute_reply": "2022-12-04T18:16:16.152088Z"
    },
    "papermill": {
     "duration": 0.089346,
     "end_time": "2022-12-04T18:16:16.155100",
     "exception": false,
     "start_time": "2022-12-04T18:16:16.065754",
     "status": "completed"
    },
    "tags": []
   },
   "outputs": [],
   "source": [
    "df_test=pd.read_csv('/kaggle/input/futureprediction/test.csv')"
   ]
  },
  {
   "cell_type": "code",
   "execution_count": 7,
   "id": "fb8fe5a7",
   "metadata": {
    "execution": {
     "iopub.execute_input": "2022-12-04T18:16:16.164227Z",
     "iopub.status.busy": "2022-12-04T18:16:16.163784Z",
     "iopub.status.idle": "2022-12-04T18:16:16.271977Z",
     "shell.execute_reply": "2022-12-04T18:16:16.270064Z"
    },
    "papermill": {
     "duration": 0.115778,
     "end_time": "2022-12-04T18:16:16.274719",
     "exception": false,
     "start_time": "2022-12-04T18:16:16.158941",
     "status": "completed"
    },
    "tags": []
   },
   "outputs": [
    {
     "name": "stderr",
     "output_type": "stream",
     "text": [
      "/opt/conda/lib/python3.7/site-packages/ipykernel_launcher.py:1: FutureWarning: merging between different levels is deprecated and will be removed in a future version. (1 levels on the left,2 on the right)\n",
      "  \"\"\"Entry point for launching an IPython kernel.\n",
      "/opt/conda/lib/python3.7/site-packages/pandas/core/generic.py:4150: PerformanceWarning: dropping on a non-lexsorted multi-index without a level parameter may impact performance.\n",
      "  obj = obj._drop_axis(labels, axis, level=level, errors=errors)\n"
     ]
    }
   ],
   "source": [
    "dataset=pd.merge(df_test,dataset,on=['item_id','shop_id'],how='left')"
   ]
  },
  {
   "cell_type": "code",
   "execution_count": 8,
   "id": "25d1ded8",
   "metadata": {
    "execution": {
     "iopub.execute_input": "2022-12-04T18:16:16.284139Z",
     "iopub.status.busy": "2022-12-04T18:16:16.283765Z",
     "iopub.status.idle": "2022-12-04T18:16:16.303095Z",
     "shell.execute_reply": "2022-12-04T18:16:16.301832Z"
    },
    "papermill": {
     "duration": 0.026071,
     "end_time": "2022-12-04T18:16:16.305087",
     "exception": false,
     "start_time": "2022-12-04T18:16:16.279016",
     "status": "completed"
    },
    "tags": []
   },
   "outputs": [
    {
     "data": {
      "text/plain": [
       "0"
      ]
     },
     "execution_count": 8,
     "metadata": {},
     "output_type": "execute_result"
    }
   ],
   "source": [
    "dataset.fillna(0,inplace=True)\n",
    "dataset.isnull().sum().sum()"
   ]
  },
  {
   "cell_type": "code",
   "execution_count": 9,
   "id": "9c178541",
   "metadata": {
    "execution": {
     "iopub.execute_input": "2022-12-04T18:16:16.315119Z",
     "iopub.status.busy": "2022-12-04T18:16:16.314794Z",
     "iopub.status.idle": "2022-12-04T18:16:16.349653Z",
     "shell.execute_reply": "2022-12-04T18:16:16.348296Z"
    },
    "papermill": {
     "duration": 0.042428,
     "end_time": "2022-12-04T18:16:16.351575",
     "exception": false,
     "start_time": "2022-12-04T18:16:16.309147",
     "status": "completed"
    },
    "tags": []
   },
   "outputs": [
    {
     "data": {
      "text/html": [
       "<div>\n",
       "<style scoped>\n",
       "    .dataframe tbody tr th:only-of-type {\n",
       "        vertical-align: middle;\n",
       "    }\n",
       "\n",
       "    .dataframe tbody tr th {\n",
       "        vertical-align: top;\n",
       "    }\n",
       "\n",
       "    .dataframe thead th {\n",
       "        text-align: right;\n",
       "    }\n",
       "</style>\n",
       "<table border=\"1\" class=\"dataframe\">\n",
       "  <thead>\n",
       "    <tr style=\"text-align: right;\">\n",
       "      <th></th>\n",
       "      <th>(item_cnt_day, 0)</th>\n",
       "      <th>(item_cnt_day, 1)</th>\n",
       "      <th>(item_cnt_day, 2)</th>\n",
       "      <th>(item_cnt_day, 3)</th>\n",
       "      <th>(item_cnt_day, 4)</th>\n",
       "      <th>(item_cnt_day, 5)</th>\n",
       "      <th>(item_cnt_day, 6)</th>\n",
       "      <th>(item_cnt_day, 7)</th>\n",
       "      <th>(item_cnt_day, 8)</th>\n",
       "      <th>(item_cnt_day, 9)</th>\n",
       "      <th>(item_cnt_day, 10)</th>\n",
       "    </tr>\n",
       "  </thead>\n",
       "  <tbody>\n",
       "    <tr>\n",
       "      <th>0</th>\n",
       "      <td>0.0</td>\n",
       "      <td>0.0</td>\n",
       "      <td>0.0</td>\n",
       "      <td>0.0</td>\n",
       "      <td>0.0</td>\n",
       "      <td>0.0</td>\n",
       "      <td>0.0</td>\n",
       "      <td>0.0</td>\n",
       "      <td>0.0</td>\n",
       "      <td>0.0</td>\n",
       "      <td>0.0</td>\n",
       "    </tr>\n",
       "    <tr>\n",
       "      <th>1</th>\n",
       "      <td>0.0</td>\n",
       "      <td>0.0</td>\n",
       "      <td>0.0</td>\n",
       "      <td>0.0</td>\n",
       "      <td>0.0</td>\n",
       "      <td>0.0</td>\n",
       "      <td>0.0</td>\n",
       "      <td>0.0</td>\n",
       "      <td>0.0</td>\n",
       "      <td>0.0</td>\n",
       "      <td>0.0</td>\n",
       "    </tr>\n",
       "    <tr>\n",
       "      <th>2</th>\n",
       "      <td>0.0</td>\n",
       "      <td>0.0</td>\n",
       "      <td>0.0</td>\n",
       "      <td>0.0</td>\n",
       "      <td>0.0</td>\n",
       "      <td>0.0</td>\n",
       "      <td>0.0</td>\n",
       "      <td>0.0</td>\n",
       "      <td>0.0</td>\n",
       "      <td>0.0</td>\n",
       "      <td>0.0</td>\n",
       "    </tr>\n",
       "    <tr>\n",
       "      <th>3</th>\n",
       "      <td>0.0</td>\n",
       "      <td>0.0</td>\n",
       "      <td>0.0</td>\n",
       "      <td>0.0</td>\n",
       "      <td>0.0</td>\n",
       "      <td>0.0</td>\n",
       "      <td>0.0</td>\n",
       "      <td>0.0</td>\n",
       "      <td>0.0</td>\n",
       "      <td>0.0</td>\n",
       "      <td>0.0</td>\n",
       "    </tr>\n",
       "    <tr>\n",
       "      <th>4</th>\n",
       "      <td>0.0</td>\n",
       "      <td>0.0</td>\n",
       "      <td>0.0</td>\n",
       "      <td>0.0</td>\n",
       "      <td>0.0</td>\n",
       "      <td>0.0</td>\n",
       "      <td>0.0</td>\n",
       "      <td>0.0</td>\n",
       "      <td>0.0</td>\n",
       "      <td>0.0</td>\n",
       "      <td>0.0</td>\n",
       "    </tr>\n",
       "    <tr>\n",
       "      <th>...</th>\n",
       "      <td>...</td>\n",
       "      <td>...</td>\n",
       "      <td>...</td>\n",
       "      <td>...</td>\n",
       "      <td>...</td>\n",
       "      <td>...</td>\n",
       "      <td>...</td>\n",
       "      <td>...</td>\n",
       "      <td>...</td>\n",
       "      <td>...</td>\n",
       "      <td>...</td>\n",
       "    </tr>\n",
       "    <tr>\n",
       "      <th>214195</th>\n",
       "      <td>0.0</td>\n",
       "      <td>0.0</td>\n",
       "      <td>0.0</td>\n",
       "      <td>0.0</td>\n",
       "      <td>0.0</td>\n",
       "      <td>0.0</td>\n",
       "      <td>0.0</td>\n",
       "      <td>0.0</td>\n",
       "      <td>0.0</td>\n",
       "      <td>0.0</td>\n",
       "      <td>0.0</td>\n",
       "    </tr>\n",
       "    <tr>\n",
       "      <th>214196</th>\n",
       "      <td>0.0</td>\n",
       "      <td>0.0</td>\n",
       "      <td>0.0</td>\n",
       "      <td>0.0</td>\n",
       "      <td>0.0</td>\n",
       "      <td>0.0</td>\n",
       "      <td>0.0</td>\n",
       "      <td>0.0</td>\n",
       "      <td>0.0</td>\n",
       "      <td>0.0</td>\n",
       "      <td>0.0</td>\n",
       "    </tr>\n",
       "    <tr>\n",
       "      <th>214197</th>\n",
       "      <td>1.0</td>\n",
       "      <td>0.0</td>\n",
       "      <td>0.0</td>\n",
       "      <td>0.0</td>\n",
       "      <td>0.0</td>\n",
       "      <td>0.0</td>\n",
       "      <td>0.0</td>\n",
       "      <td>0.0</td>\n",
       "      <td>0.0</td>\n",
       "      <td>0.0</td>\n",
       "      <td>0.0</td>\n",
       "    </tr>\n",
       "    <tr>\n",
       "      <th>214198</th>\n",
       "      <td>0.0</td>\n",
       "      <td>0.0</td>\n",
       "      <td>0.0</td>\n",
       "      <td>0.0</td>\n",
       "      <td>0.0</td>\n",
       "      <td>0.0</td>\n",
       "      <td>0.0</td>\n",
       "      <td>0.0</td>\n",
       "      <td>0.0</td>\n",
       "      <td>0.0</td>\n",
       "      <td>0.0</td>\n",
       "    </tr>\n",
       "    <tr>\n",
       "      <th>214199</th>\n",
       "      <td>0.0</td>\n",
       "      <td>0.0</td>\n",
       "      <td>0.0</td>\n",
       "      <td>0.0</td>\n",
       "      <td>0.0</td>\n",
       "      <td>0.0</td>\n",
       "      <td>0.0</td>\n",
       "      <td>0.0</td>\n",
       "      <td>0.0</td>\n",
       "      <td>0.0</td>\n",
       "      <td>0.0</td>\n",
       "    </tr>\n",
       "  </tbody>\n",
       "</table>\n",
       "<p>214200 rows × 11 columns</p>\n",
       "</div>"
      ],
      "text/plain": [
       "        (item_cnt_day, 0)  (item_cnt_day, 1)  (item_cnt_day, 2)  \\\n",
       "0                     0.0                0.0                0.0   \n",
       "1                     0.0                0.0                0.0   \n",
       "2                     0.0                0.0                0.0   \n",
       "3                     0.0                0.0                0.0   \n",
       "4                     0.0                0.0                0.0   \n",
       "...                   ...                ...                ...   \n",
       "214195                0.0                0.0                0.0   \n",
       "214196                0.0                0.0                0.0   \n",
       "214197                1.0                0.0                0.0   \n",
       "214198                0.0                0.0                0.0   \n",
       "214199                0.0                0.0                0.0   \n",
       "\n",
       "        (item_cnt_day, 3)  (item_cnt_day, 4)  (item_cnt_day, 5)  \\\n",
       "0                     0.0                0.0                0.0   \n",
       "1                     0.0                0.0                0.0   \n",
       "2                     0.0                0.0                0.0   \n",
       "3                     0.0                0.0                0.0   \n",
       "4                     0.0                0.0                0.0   \n",
       "...                   ...                ...                ...   \n",
       "214195                0.0                0.0                0.0   \n",
       "214196                0.0                0.0                0.0   \n",
       "214197                0.0                0.0                0.0   \n",
       "214198                0.0                0.0                0.0   \n",
       "214199                0.0                0.0                0.0   \n",
       "\n",
       "        (item_cnt_day, 6)  (item_cnt_day, 7)  (item_cnt_day, 8)  \\\n",
       "0                     0.0                0.0                0.0   \n",
       "1                     0.0                0.0                0.0   \n",
       "2                     0.0                0.0                0.0   \n",
       "3                     0.0                0.0                0.0   \n",
       "4                     0.0                0.0                0.0   \n",
       "...                   ...                ...                ...   \n",
       "214195                0.0                0.0                0.0   \n",
       "214196                0.0                0.0                0.0   \n",
       "214197                0.0                0.0                0.0   \n",
       "214198                0.0                0.0                0.0   \n",
       "214199                0.0                0.0                0.0   \n",
       "\n",
       "        (item_cnt_day, 9)  (item_cnt_day, 10)  \n",
       "0                     0.0                 0.0  \n",
       "1                     0.0                 0.0  \n",
       "2                     0.0                 0.0  \n",
       "3                     0.0                 0.0  \n",
       "4                     0.0                 0.0  \n",
       "...                   ...                 ...  \n",
       "214195                0.0                 0.0  \n",
       "214196                0.0                 0.0  \n",
       "214197                0.0                 0.0  \n",
       "214198                0.0                 0.0  \n",
       "214199                0.0                 0.0  \n",
       "\n",
       "[214200 rows x 11 columns]"
      ]
     },
     "execution_count": 9,
     "metadata": {},
     "output_type": "execute_result"
    }
   ],
   "source": [
    "dataset.drop(['shop_id','item_id','ID'],inplace=True,axis=1)\n",
    "dataset"
   ]
  },
  {
   "cell_type": "code",
   "execution_count": 10,
   "id": "d9e88f87",
   "metadata": {
    "execution": {
     "iopub.execute_input": "2022-12-04T18:16:16.361442Z",
     "iopub.status.busy": "2022-12-04T18:16:16.361091Z",
     "iopub.status.idle": "2022-12-04T18:16:16.370183Z",
     "shell.execute_reply": "2022-12-04T18:16:16.368301Z"
    },
    "papermill": {
     "duration": 0.017485,
     "end_time": "2022-12-04T18:16:16.373182",
     "exception": false,
     "start_time": "2022-12-04T18:16:16.355697",
     "status": "completed"
    },
    "tags": []
   },
   "outputs": [
    {
     "name": "stdout",
     "output_type": "stream",
     "text": [
      "(214200, 10, 1) (214200, 1) (214200, 10, 1)\n"
     ]
    }
   ],
   "source": [
    "x_train=np.expand_dims(dataset.values[:,:-1],axis=2)\n",
    "y_train=dataset.values[:,-1:]\n",
    "y_train[y_train<0]=0\n",
    "x_test=np.expand_dims(dataset.values[:,1:],axis=2)\n",
    "print(x_train.shape,y_train.shape,x_test.shape)"
   ]
  },
  {
   "cell_type": "code",
   "execution_count": 11,
   "id": "48578652",
   "metadata": {
    "execution": {
     "iopub.execute_input": "2022-12-04T18:16:16.383282Z",
     "iopub.status.busy": "2022-12-04T18:16:16.382949Z",
     "iopub.status.idle": "2022-12-04T18:16:17.304357Z",
     "shell.execute_reply": "2022-12-04T18:16:17.303035Z"
    },
    "papermill": {
     "duration": 0.930129,
     "end_time": "2022-12-04T18:16:17.307571",
     "exception": false,
     "start_time": "2022-12-04T18:16:16.377442",
     "status": "completed"
    },
    "tags": []
   },
   "outputs": [
    {
     "name": "stderr",
     "output_type": "stream",
     "text": [
      "2022-12-04 18:16:16.420569: I tensorflow/core/common_runtime/process_util.cc:146] Creating new thread pool with default inter op setting: 2. Tune using inter_op_parallelism_threads for best performance.\n"
     ]
    }
   ],
   "source": [
    "lstm=Sequential()\n",
    "lstm.add(LSTM(units=128,input_shape=(33,1),return_sequences=True ))\n",
    "lstm.add(LSTM(units=128,input_shape=(33,1),return_sequences=True ))\n",
    "\n",
    "\n",
    "lstm.add(Dropout(0.4))\n",
    "lstm.add(LSTM(units=128,input_shape=(33,1)))\n",
    "lstm.add(Dense(1))\n",
    "lstm.compile(loss='mse',optimizer='adam',metrics=['mean_squared_error'])"
   ]
  },
  {
   "cell_type": "code",
   "execution_count": 12,
   "id": "2543ba42",
   "metadata": {
    "execution": {
     "iopub.execute_input": "2022-12-04T18:16:17.319228Z",
     "iopub.status.busy": "2022-12-04T18:16:17.317922Z",
     "iopub.status.idle": "2022-12-04T18:21:19.757177Z",
     "shell.execute_reply": "2022-12-04T18:21:19.755864Z"
    },
    "papermill": {
     "duration": 302.446972,
     "end_time": "2022-12-04T18:21:19.759009",
     "exception": false,
     "start_time": "2022-12-04T18:16:17.312037",
     "status": "completed"
    },
    "tags": []
   },
   "outputs": [
    {
     "name": "stderr",
     "output_type": "stream",
     "text": [
      "2022-12-04 18:16:17.379705: I tensorflow/compiler/mlir/mlir_graph_optimization_pass.cc:185] None of the MLIR Optimization Passes are enabled (registered 2)\n"
     ]
    },
    {
     "name": "stdout",
     "output_type": "stream",
     "text": [
      "Epoch 1/5\n",
      "53/53 [==============================] - 64s 1s/step - loss: 9.8558 - mean_squared_error: 9.8558\n",
      "Epoch 2/5\n",
      "53/53 [==============================] - 60s 1s/step - loss: 9.6322 - mean_squared_error: 9.6322\n",
      "Epoch 3/5\n",
      "53/53 [==============================] - 60s 1s/step - loss: 9.5111 - mean_squared_error: 9.5111\n",
      "Epoch 4/5\n",
      "53/53 [==============================] - 59s 1s/step - loss: 9.4868 - mean_squared_error: 9.4868\n",
      "Epoch 5/5\n",
      "53/53 [==============================] - 59s 1s/step - loss: 9.4256 - mean_squared_error: 9.4256\n"
     ]
    },
    {
     "data": {
      "text/plain": [
       "<keras.callbacks.History at 0x7ff2da868e90>"
      ]
     },
     "execution_count": 12,
     "metadata": {},
     "output_type": "execute_result"
    }
   ],
   "source": [
    "lstm.fit(x_train,y_train,batch_size=4096,epochs=5)"
   ]
  },
  {
   "cell_type": "code",
   "execution_count": 13,
   "id": "522b3575",
   "metadata": {
    "execution": {
     "iopub.execute_input": "2022-12-04T18:21:19.799035Z",
     "iopub.status.busy": "2022-12-04T18:21:19.798664Z",
     "iopub.status.idle": "2022-12-04T18:22:52.283842Z",
     "shell.execute_reply": "2022-12-04T18:22:52.282571Z"
    },
    "papermill": {
     "duration": 92.525202,
     "end_time": "2022-12-04T18:22:52.303039",
     "exception": false,
     "start_time": "2022-12-04T18:21:19.777837",
     "status": "completed"
    },
    "tags": []
   },
   "outputs": [
    {
     "data": {
      "text/html": [
       "<div>\n",
       "<style scoped>\n",
       "    .dataframe tbody tr th:only-of-type {\n",
       "        vertical-align: middle;\n",
       "    }\n",
       "\n",
       "    .dataframe tbody tr th {\n",
       "        vertical-align: top;\n",
       "    }\n",
       "\n",
       "    .dataframe thead th {\n",
       "        text-align: right;\n",
       "    }\n",
       "</style>\n",
       "<table border=\"1\" class=\"dataframe\">\n",
       "  <thead>\n",
       "    <tr style=\"text-align: right;\">\n",
       "      <th></th>\n",
       "      <th>ID</th>\n",
       "      <th>item_cnt_month</th>\n",
       "    </tr>\n",
       "  </thead>\n",
       "  <tbody>\n",
       "    <tr>\n",
       "      <th>0</th>\n",
       "      <td>0</td>\n",
       "      <td>0.2</td>\n",
       "    </tr>\n",
       "    <tr>\n",
       "      <th>1</th>\n",
       "      <td>1</td>\n",
       "      <td>0.2</td>\n",
       "    </tr>\n",
       "    <tr>\n",
       "      <th>2</th>\n",
       "      <td>2</td>\n",
       "      <td>0.2</td>\n",
       "    </tr>\n",
       "    <tr>\n",
       "      <th>3</th>\n",
       "      <td>3</td>\n",
       "      <td>0.2</td>\n",
       "    </tr>\n",
       "    <tr>\n",
       "      <th>4</th>\n",
       "      <td>4</td>\n",
       "      <td>0.2</td>\n",
       "    </tr>\n",
       "    <tr>\n",
       "      <th>...</th>\n",
       "      <td>...</td>\n",
       "      <td>...</td>\n",
       "    </tr>\n",
       "    <tr>\n",
       "      <th>214195</th>\n",
       "      <td>214195</td>\n",
       "      <td>0.2</td>\n",
       "    </tr>\n",
       "    <tr>\n",
       "      <th>214196</th>\n",
       "      <td>214196</td>\n",
       "      <td>0.2</td>\n",
       "    </tr>\n",
       "    <tr>\n",
       "      <th>214197</th>\n",
       "      <td>214197</td>\n",
       "      <td>0.2</td>\n",
       "    </tr>\n",
       "    <tr>\n",
       "      <th>214198</th>\n",
       "      <td>214198</td>\n",
       "      <td>0.2</td>\n",
       "    </tr>\n",
       "    <tr>\n",
       "      <th>214199</th>\n",
       "      <td>214199</td>\n",
       "      <td>0.2</td>\n",
       "    </tr>\n",
       "  </tbody>\n",
       "</table>\n",
       "<p>214200 rows × 2 columns</p>\n",
       "</div>"
      ],
      "text/plain": [
       "            ID  item_cnt_month\n",
       "0            0             0.2\n",
       "1            1             0.2\n",
       "2            2             0.2\n",
       "3            3             0.2\n",
       "4            4             0.2\n",
       "...        ...             ...\n",
       "214195  214195             0.2\n",
       "214196  214196             0.2\n",
       "214197  214197             0.2\n",
       "214198  214198             0.2\n",
       "214199  214199             0.2\n",
       "\n",
       "[214200 rows x 2 columns]"
      ]
     },
     "execution_count": 13,
     "metadata": {},
     "output_type": "execute_result"
    }
   ],
   "source": [
    "submission_file=lstm.predict(x_test)\n",
    "submission_file=submission_file.clip(0.20)\n",
    "submission_trp=pd.DataFrame({'ID':df_test['ID'],'item_cnt_month':submission_file.ravel()})\n",
    "submission_trp.to_csv('submission(-ve removed).csv',index=False)\n",
    "submission_trp"
   ]
  }
 ],
 "metadata": {
  "kernelspec": {
   "display_name": "Python 3",
   "language": "python",
   "name": "python3"
  },
  "language_info": {
   "codemirror_mode": {
    "name": "ipython",
    "version": 3
   },
   "file_extension": ".py",
   "mimetype": "text/x-python",
   "name": "python",
   "nbconvert_exporter": "python",
   "pygments_lexer": "ipython3",
   "version": "3.7.12"
  },
  "papermill": {
   "default_parameters": {},
   "duration": 415.260524,
   "end_time": "2022-12-04T18:22:54.965768",
   "environment_variables": {},
   "exception": null,
   "input_path": "__notebook__.ipynb",
   "output_path": "__notebook__.ipynb",
   "parameters": {},
   "start_time": "2022-12-04T18:15:59.705244",
   "version": "2.3.4"
  }
 },
 "nbformat": 4,
 "nbformat_minor": 5
}
