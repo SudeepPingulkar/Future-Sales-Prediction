{
 "cells": [
  {
   "cell_type": "code",
   "execution_count": 1,
   "id": "3f6dc163",
   "metadata": {
    "execution": {
     "iopub.execute_input": "2022-11-06T15:46:56.019819Z",
     "iopub.status.busy": "2022-11-06T15:46:56.018934Z",
     "iopub.status.idle": "2022-11-06T15:46:58.206584Z",
     "shell.execute_reply": "2022-11-06T15:46:58.205594Z"
    },
    "papermill": {
     "duration": 2.203043,
     "end_time": "2022-11-06T15:46:58.209803",
     "exception": false,
     "start_time": "2022-11-06T15:46:56.006760",
     "status": "completed"
    },
    "tags": []
   },
   "outputs": [
    {
     "data": {
      "text/html": [
       "<style type='text/css'>\n",
       ".datatable table.frame { margin-bottom: 0; }\n",
       ".datatable table.frame thead { border-bottom: none; }\n",
       ".datatable table.frame tr.coltypes td {  color: #FFFFFF;  line-height: 6px;  padding: 0 0.5em;}\n",
       ".datatable .bool    { background: #DDDD99; }\n",
       ".datatable .object  { background: #565656; }\n",
       ".datatable .int     { background: #5D9E5D; }\n",
       ".datatable .float   { background: #4040CC; }\n",
       ".datatable .str     { background: #CC4040; }\n",
       ".datatable .time    { background: #40CC40; }\n",
       ".datatable .row_index {  background: var(--jp-border-color3);  border-right: 1px solid var(--jp-border-color0);  color: var(--jp-ui-font-color3);  font-size: 9px;}\n",
       ".datatable .frame tbody td { text-align: left; }\n",
       ".datatable .frame tr.coltypes .row_index {  background: var(--jp-border-color0);}\n",
       ".datatable th:nth-child(2) { padding-left: 12px; }\n",
       ".datatable .hellipsis {  color: var(--jp-cell-editor-border-color);}\n",
       ".datatable .vellipsis {  background: var(--jp-layout-color0);  color: var(--jp-cell-editor-border-color);}\n",
       ".datatable .na {  color: var(--jp-cell-editor-border-color);  font-size: 80%;}\n",
       ".datatable .sp {  opacity: 0.25;}\n",
       ".datatable .footer { font-size: 9px; }\n",
       ".datatable .frame_dimensions {  background: var(--jp-border-color3);  border-top: 1px solid var(--jp-border-color0);  color: var(--jp-ui-font-color3);  display: inline-block;  opacity: 0.6;  padding: 1px 10px 1px 5px;}\n",
       "</style>\n"
      ],
      "text/plain": [
       "<IPython.core.display.HTML object>"
      ]
     },
     "metadata": {},
     "output_type": "display_data"
    }
   ],
   "source": [
    "import numpy as np\n",
    "import pandas as pd\n",
    "import scipy\n",
    "import sklearn\n",
    "\n",
    "from sklearn.preprocessing import LabelEncoder\n",
    "from sklearn.preprocessing import OrdinalEncoder\n",
    "from sklearn.preprocessing import OneHotEncoder\n",
    "from sklearn.preprocessing import StandardScaler\n",
    "\n",
    "from sklearn.metrics import mean_squared_error\n",
    "\n",
    "from itertools import product\n",
    "\n",
    "from sklearn.cluster import KMeans\n",
    "\n",
    "import lightgbm as lgb"
   ]
  },
  {
   "cell_type": "code",
   "execution_count": 2,
   "id": "cf81a521",
   "metadata": {
    "execution": {
     "iopub.execute_input": "2022-11-06T15:46:58.228545Z",
     "iopub.status.busy": "2022-11-06T15:46:58.228111Z",
     "iopub.status.idle": "2022-11-06T15:46:58.233095Z",
     "shell.execute_reply": "2022-11-06T15:46:58.231952Z"
    },
    "papermill": {
     "duration": 0.016859,
     "end_time": "2022-11-06T15:46:58.235407",
     "exception": false,
     "start_time": "2022-11-06T15:46:58.218548",
     "status": "completed"
    },
    "tags": []
   },
   "outputs": [],
   "source": [
    "dpath  = '../input/competitive-data-science-predict-future-sales/'\n",
    "adpath ='../input/predict-future-sales/'"
   ]
  },
  {
   "cell_type": "code",
   "execution_count": 3,
   "id": "550d818d",
   "metadata": {
    "execution": {
     "iopub.execute_input": "2022-11-06T15:46:58.254050Z",
     "iopub.status.busy": "2022-11-06T15:46:58.253555Z",
     "iopub.status.idle": "2022-11-06T15:47:01.093820Z",
     "shell.execute_reply": "2022-11-06T15:47:01.092866Z"
    },
    "papermill": {
     "duration": 2.852936,
     "end_time": "2022-11-06T15:47:01.096509",
     "exception": false,
     "start_time": "2022-11-06T15:46:58.243573",
     "status": "completed"
    },
    "tags": []
   },
   "outputs": [],
   "source": [
    "# Basic data loading\n",
    "\n",
    "df_train = pd.read_csv(dpath + 'sales_train.csv')\n",
    "df_test = pd.read_csv(dpath + 'test.csv', index_col='ID')\n",
    "\n",
    "df_shops = pd.read_csv(dpath + 'shops.csv', index_col='shop_id')\n",
    "\n",
    "df_items = pd.read_csv(dpath + 'items.csv', index_col='item_id')\n",
    "df_itemcat = pd.read_csv(dpath + 'item_categories.csv', index_col='item_category_id')\n",
    "\n",
    "sample_submission = pd.read_csv(dpath + 'sample_submission.csv', index_col='ID')"
   ]
  },
  {
   "cell_type": "code",
   "execution_count": 4,
   "id": "d810ca41",
   "metadata": {
    "execution": {
     "iopub.execute_input": "2022-11-06T15:47:01.115743Z",
     "iopub.status.busy": "2022-11-06T15:47:01.114828Z",
     "iopub.status.idle": "2022-11-06T15:47:01.127690Z",
     "shell.execute_reply": "2022-11-06T15:47:01.126693Z"
    },
    "papermill": {
     "duration": 0.025049,
     "end_time": "2022-11-06T15:47:01.130224",
     "exception": false,
     "start_time": "2022-11-06T15:47:01.105175",
     "status": "completed"
    },
    "tags": []
   },
   "outputs": [],
   "source": [
    "# Calendar\n",
    "\n",
    "calendar = pd.read_csv(adpath + 'calendar.csv', dtype='int16')"
   ]
  },
  {
   "cell_type": "code",
   "execution_count": 5,
   "id": "204f5c5d",
   "metadata": {
    "execution": {
     "iopub.execute_input": "2022-11-06T15:47:01.149402Z",
     "iopub.status.busy": "2022-11-06T15:47:01.148154Z",
     "iopub.status.idle": "2022-11-06T15:47:01.165369Z",
     "shell.execute_reply": "2022-11-06T15:47:01.164482Z"
    },
    "papermill": {
     "duration": 0.02921,
     "end_time": "2022-11-06T15:47:01.167839",
     "exception": false,
     "start_time": "2022-11-06T15:47:01.138629",
     "status": "completed"
    },
    "tags": []
   },
   "outputs": [],
   "source": [
    "# Shops\n",
    "\n",
    "def shop_name2city(sn):\n",
    "    sn = sn.split()[0]\n",
    "    if sn == 'Цифровой' or sn == 'Интернет-магазин': sn = 'Internet'\n",
    "    if sn[0] == '!': sn = sn[1:]  \n",
    "    return sn\n",
    "\n",
    "df_shops['city'] = df_shops['shop_name'].apply(shop_name2city)\n",
    "df_shops['city_enc'] = LabelEncoder().fit_transform(df_shops['city']).astype('int8')\n",
    "\n",
    "city_info = pd.read_pickle(adpath + 'city_info.pkl')\n",
    "\n",
    "df_shops['city_size'] = df_shops['city'].map(city_info['city_size'])"
   ]
  },
  {
   "cell_type": "code",
   "execution_count": 6,
   "id": "2638525c",
   "metadata": {
    "execution": {
     "iopub.execute_input": "2022-11-06T15:47:01.188408Z",
     "iopub.status.busy": "2022-11-06T15:47:01.187227Z",
     "iopub.status.idle": "2022-11-06T15:47:01.195592Z",
     "shell.execute_reply": "2022-11-06T15:47:01.194605Z"
    },
    "papermill": {
     "duration": 0.02019,
     "end_time": "2022-11-06T15:47:01.197978",
     "exception": false,
     "start_time": "2022-11-06T15:47:01.177788",
     "status": "completed"
    },
    "tags": []
   },
   "outputs": [],
   "source": [
    "# Define items class\n",
    "\n",
    "class Items():\n",
    "\n",
    "    def __init__(self, df_items, df_itemcat):\n",
    "        \n",
    "        self.df_items    = df_items\n",
    "        self.df_itemcat  = df_itemcat\n",
    "        \n",
    "        self.set_hl_cat()\n",
    "        self.make_items_ext()\n",
    "        \n",
    "        self.item_features = ['item_category_id', 'hl_cat_id']\n",
    "\n",
    "    def set_hl_cat(self):\n",
    "        \n",
    "        self.df_itemcat['hl_cat_id'] = self.df_itemcat['item_category_name'].str.split(n=1, expand=True)[0]\n",
    "        self.df_itemcat['hl_cat_id'] = LabelEncoder().fit_transform(self.df_itemcat['hl_cat_id'])\n",
    "        \n",
    "    def make_items_ext(self):\n",
    "    \n",
    "        self.df_items = df_items.merge(self.df_itemcat, how = 'left', \n",
    "                                       left_on = 'item_category_id', right_index = True)\n",
    "\n",
    "    def get_items_df(self):\n",
    "        \n",
    "        return self.df_items[self.item_features].astype('int32')"
   ]
  },
  {
   "cell_type": "code",
   "execution_count": 7,
   "id": "76650b20",
   "metadata": {
    "execution": {
     "iopub.execute_input": "2022-11-06T15:47:01.216296Z",
     "iopub.status.busy": "2022-11-06T15:47:01.215907Z",
     "iopub.status.idle": "2022-11-06T15:47:01.233214Z",
     "shell.execute_reply": "2022-11-06T15:47:01.232284Z"
    },
    "papermill": {
     "duration": 0.02937,
     "end_time": "2022-11-06T15:47:01.235799",
     "exception": false,
     "start_time": "2022-11-06T15:47:01.206429",
     "status": "completed"
    },
    "tags": []
   },
   "outputs": [],
   "source": [
    "items = Items(df_items, df_itemcat)"
   ]
  },
  {
   "cell_type": "code",
   "execution_count": 8,
   "id": "ba27d8c6",
   "metadata": {
    "execution": {
     "iopub.execute_input": "2022-11-06T15:47:01.254991Z",
     "iopub.status.busy": "2022-11-06T15:47:01.254585Z",
     "iopub.status.idle": "2022-11-06T15:47:01.326752Z",
     "shell.execute_reply": "2022-11-06T15:47:01.325641Z"
    },
    "papermill": {
     "duration": 0.085417,
     "end_time": "2022-11-06T15:47:01.329646",
     "exception": false,
     "start_time": "2022-11-06T15:47:01.244229",
     "status": "completed"
    },
    "tags": []
   },
   "outputs": [],
   "source": [
    "# Define train-test class\n",
    "\n",
    "class TT_Extended():\n",
    "    \n",
    "    def __init__(self, df_train, df_test, items, df_shops, calendar, cmode, verbose=True):\n",
    "        \n",
    "        self.info = verbose\n",
    "        \n",
    "        self.df_train  = df_train.copy()\n",
    "        self.df_test   = df_test.copy()\n",
    "        self.df_shops  = df_shops.copy()\n",
    "        self.calendar  = self.set_calender(calendar.copy())\n",
    "        \n",
    "        self.idx_columns = ['date_block_num', 'shop_id', 'item_id']\n",
    "        \n",
    "        self.df_test['date_block_num'] = 34\n",
    "        self.df_test['item_cnt_month'] = 0.\n",
    "        self.df_test['item_cnt_month'] = self.df_test['item_cnt_month'].astype('float32')\n",
    "        \n",
    "        self.df_train[self.idx_columns] = self.df_train[self.idx_columns].astype('int32')\n",
    "        self.df_test[self.idx_columns]  = self.df_test[self.idx_columns].astype('int32')\n",
    "        \n",
    "        self.df_train_cleaning(cmode)\n",
    "        \n",
    "        self.item_mean_features = []\n",
    "        self.shop_mean_features = []\n",
    "        self.lag_names_to_clip  = []\n",
    "        \n",
    "        self.df_items = items.get_items_df()\n",
    "        self.item_ext_features = list(self.df_items.columns)\n",
    "        self.df_items_ext = self.items_ext()\n",
    "        \n",
    "        self.df_bb = self.build_bb()\n",
    "        \n",
    "        # Critical point: 0 or None\n",
    "        self.df_train_ext = self.df_train_agg(cmin = 0, cmax = 1000, drop = None)\n",
    "        \n",
    "        self.add_test_df()\n",
    "        \n",
    "        self.df_train_ext = self.df_train_extention()\n",
    "        \n",
    "    def df_train_cleaning(self, mode):\n",
    "        \n",
    "        assert mode in ['keep', 'drop', 'block', 'total', 't+b']\n",
    "        \n",
    "        # 'keep'  - do nothing\n",
    "        # 'drop'  - drop all negative rows\n",
    "        # 'block' - remove item_id if its sum is negative in a block\n",
    "        # 'total' - remove item_id if its total sum is negative\n",
    "        # 't+b'   - 'total' + 'block'\n",
    "        \n",
    "        if self.info: print('Cleaning train dataframe... ( Mode -', mode, ')')\n",
    "         \n",
    "        # Remove very noisy shops \n",
    "        \n",
    "        shop_idx = self.df_train[(self.df_train['shop_id'] == 9)  | \n",
    "                                 (self.df_train['shop_id'] == 20)].index\n",
    "        self.df_train.drop(shop_idx, inplace=True)\n",
    "        \n",
    "        \n",
    "        self.df_train = self.df_train[(self.df_train['item_price'] > 0) & \n",
    "                                      (self.df_train['item_price'] < 51000)]\n",
    "        self.df_train = self.df_train[self.df_train['item_cnt_day'] <= 1000]\n",
    "\n",
    "        shop_repl_dict = {0 : 57, 1 : 58, 11 : 10, 40 : 39}\n",
    "    \n",
    "        self.df_train['shop_id'] = self.df_train['shop_id'].apply(\n",
    "                                   lambda s: shop_repl_dict.get(s) if s in shop_repl_dict else s)    \n",
    "            \n",
    "            \n",
    "        if   mode == 'drop':\n",
    "            self.df_train = self.df_train[self.df_train['item_cnt_day'] > 0]\n",
    "            \n",
    "        elif mode == 'block':\n",
    "            item_block_cnt = self.df_train.groupby(['date_block_num', 'shop_id', 'item_id'])['item_cnt_day'].sum()\n",
    "            items_to_drop = item_block_cnt[item_block_cnt <= 0].index\n",
    "            self.df_train = self.df_train[~self.df_train.set_index(\n",
    "                                            ['date_block_num', 'shop_id', 'item_id']).index.isin(items_to_drop)]\n",
    "        elif mode == 'total':\n",
    "            item_total_cnt = self.df_train.groupby(['shop_id', 'item_id'])['item_cnt_day'].sum()\n",
    "            items_to_drop = item_total_cnt[item_total_cnt <= 0].index\n",
    "            self.df_train = self.df_train[~self.df_train.set_index(\n",
    "                                            ['shop_id', 'item_id']).index.isin(items_to_drop)]\n",
    "            \n",
    "        elif mode == 't+b':\n",
    "            item_total_cnt = self.df_train.groupby(['shop_id', 'item_id'])['item_cnt_day'].sum()\n",
    "            items_to_drop = item_total_cnt[item_total_cnt <= 0].index\n",
    "            self.df_train = self.df_train[~self.df_train.set_index(\n",
    "                                            ['shop_id', 'item_id']).index.isin(items_to_drop)]\n",
    "            \n",
    "            item_block_cnt = self.df_train.groupby(['date_block_num', 'shop_id', 'item_id'])['item_cnt_day'].sum()\n",
    "            items_to_drop = item_block_cnt[item_block_cnt <= 0].index\n",
    "            self.df_train = self.df_train[~self.df_train.set_index(\n",
    "                                            ['date_block_num', 'shop_id', 'item_id']).index.isin(items_to_drop)]\n",
    "            \n",
    "            \n",
    "        return\n",
    "        \n",
    "    def set_calender(self, calendar):\n",
    "        \n",
    "        calendar['date_block_num'] = (calendar['year'] - 2013)*12 + (calendar['month'] - 1)\n",
    "        calendar['hdays'] = calendar['mdays'] - calendar['wdays']\n",
    "        calendar.set_index('date_block_num', inplace=True)\n",
    "        \n",
    "        return calendar\n",
    "    \n",
    "    def items_ext(self):\n",
    "        \n",
    "        dfi = self.df_items.copy()\n",
    "        \n",
    "        dfi['fsb'] = self.df_train.groupby('item_id')['date_block_num'].min()\n",
    "        \n",
    "        dfi['fsb'].fillna(34, inplace=True)\n",
    "        dfi['fsb'] = dfi['fsb'].astype('int8')\n",
    "        \n",
    "        self.item_ext_features += ['fsb']\n",
    "        \n",
    "        return dfi\n",
    "    \n",
    "    def build_bb(self):\n",
    "        \n",
    "        if self.info: print('Building index dataframe...')\n",
    "\n",
    "        df_work = []\n",
    "\n",
    "        for block_num in self.df_train['date_block_num'].unique():\n",
    "    \n",
    "            cur_shops = self.df_train.loc[self.df_train['date_block_num'] == block_num, 'shop_id'].unique()\n",
    "            cur_items = self.df_train.loc[self.df_train['date_block_num'] == block_num, 'item_id'].unique()\n",
    "    \n",
    "            df_work.append(np.array(list(product(*[[block_num], cur_shops, cur_items])), dtype='int32'))\n",
    "\n",
    "        df_work = pd.DataFrame(np.vstack(df_work), columns = self.idx_columns)\n",
    "            \n",
    "        return df_work\n",
    "    \n",
    "    def df_train_agg(self, cmin = 0, cmax = 20, drop = None):\n",
    "        \n",
    "        if self.info: print('Aggregation...')\n",
    "        \n",
    "        df_work = self.df_train.groupby(self.idx_columns).agg({'item_price'  : np.mean, \n",
    "                                                               'item_cnt_day': np.sum})\n",
    "        df_work.reset_index(inplace=True)\n",
    "        df_work = df_work.rename(columns={'item_cnt_day': 'item_cnt_month'})\n",
    "        \n",
    "        df_work = pd.merge(self.df_bb, df_work, on=self.idx_columns, how='left')\n",
    "        \n",
    "        df_work['item_cnt_month'] = df_work['item_cnt_month'].astype('float32').fillna(0.).clip(cmin, cmax)\n",
    "        df_work['item_price'] = df_work['item_price'].astype('float32').fillna(0.)\n",
    "        \n",
    "        df_tmp = self.df_train[self.df_train['item_cnt_day'] > 0].groupby(self.idx_columns).agg({'item_cnt_day': 'count'})\n",
    "        df_tmp.reset_index(inplace=True)\n",
    "        df_tmp = df_tmp.rename(columns={'item_cnt_day': 'item_rate_month'})\n",
    "        \n",
    "        df_work = pd.merge(df_work, df_tmp, on=self.idx_columns, how='left')\n",
    "        \n",
    "        df_work['item_rate_month'] = df_work['item_rate_month'].astype('float32').fillna(0.)\n",
    "        \n",
    "        del df_tmp\n",
    "        \n",
    "        if drop: df_work.drop(drop, axis=1, inplace=True)\n",
    "        \n",
    "        return df_work\n",
    "    \n",
    "    def add_test_df(self):\n",
    "        \n",
    "        self.df_train_ext = pd.concat([self.df_train_ext, self.df_test], ignore_index=True,\n",
    "                                      sort=False, keys=self.idx_columns)\n",
    "    \n",
    "    def add_item_means(self, df, feature = None):\n",
    "        \n",
    "        # Adding item means\n",
    "        \n",
    "        if feature == None :\n",
    "            group_items = ['date_block_num','item_id']\n",
    "            feature = 'item_cnt'\n",
    "        else:\n",
    "            group_items = ['date_block_num','item_id'] + [feature]\n",
    "            \n",
    "        feature_mean_name = feature + '_mean'\n",
    "            \n",
    "        if self.info: print('Adding item means for', feature, '...')\n",
    "        \n",
    "        df_tmp = df.groupby(group_items)['item_cnt_month'].mean()\n",
    "        df_tmp = df_tmp.reset_index().rename(columns = {'item_cnt_month': feature_mean_name})\n",
    "        \n",
    "        df = pd.merge(df, df_tmp, on=group_items, how='left')\n",
    "        \n",
    "        self.item_mean_features.append(feature_mean_name)\n",
    "        \n",
    "        del df_tmp\n",
    "        \n",
    "        return df\n",
    "    \n",
    "    def add_shop_means(self, df, feature):\n",
    "        \n",
    "        # Adding shop means\n",
    "        \n",
    "        group_items = ['date_block_num', 'shop_id'] + [feature]\n",
    "            \n",
    "        feature_mean_name = feature + '_mean'\n",
    "            \n",
    "        if self.info: print('Adding shop means for', feature, '...')\n",
    "        \n",
    "        df_tmp = df.groupby(group_items)['item_cnt_month'].mean()\n",
    "        df_tmp = df_tmp.reset_index().rename(columns = {'item_cnt_month': feature_mean_name})\n",
    "        \n",
    "        df = pd.merge(df, df_tmp, on=group_items, how='left')\n",
    "        \n",
    "        self.shop_mean_features.append(feature)\n",
    "        \n",
    "        del df_tmp\n",
    "        \n",
    "        return df\n",
    "        \n",
    "    \n",
    "    def df_train_extention(self, test_cat_only = False):\n",
    "        \n",
    "        df_work = self.df_train_ext.merge(df_shops[['city_enc', 'city_size']], how = 'left', on = 'shop_id')\n",
    "        \n",
    "        df_work = df_work.merge(self.calendar[['mdays', 'wdays', 'hdays']], \n",
    "                                how = 'left', left_on = 'date_block_num', right_index = True)\n",
    "        \n",
    "        df_work = df_work.merge(self.df_items_ext[self.item_ext_features],\n",
    "                                how = 'left', left_on = 'item_id', right_index = True)\n",
    "        \n",
    "        # Shop start block number\n",
    "        \n",
    "        ssbn = self.df_train.groupby('shop_id')['date_block_num'].min().astype('int8')\n",
    "        ssbn.name = 'ssbn'\n",
    "        df_work = df_work.merge(ssbn, how = 'left', on = 'shop_id')\n",
    "        \n",
    "        if test_cat_only:\n",
    "            test_cat = df_work[df_work['date_block_num'] == 34]['item_category_id'].unique()\n",
    "            df_work = df_work[df_work['item_category_id'].isin(test_cat)]\n",
    "\n",
    "        return df_work\n",
    "    \n",
    "    def make_base_df(self, keepnans = False):\n",
    "        \n",
    "        # Make base dataframe\n",
    "        \n",
    "        df_work = self.df_train_ext.copy()\n",
    "        \n",
    "        if keepnans:\n",
    "            fill_value = None\n",
    "        else:\n",
    "            fill_value = 0    \n",
    "            \n",
    "        df_work = pd.pivot_table(df_work, values='item_cnt_month', index=['shop_id', 'item_id'], \n",
    "                                     columns = 'date_block_num', aggfunc=np.sum, fill_value = fill_value)\n",
    "        df_work.columns.name = ''\n",
    "        \n",
    "        return df_work\n",
    "    \n",
    "    def add_total_cnt(self, df):\n",
    "        \n",
    "        if self.info: print('Adding total count...')\n",
    "        \n",
    "        df_base = self.make_base_df()\n",
    "        \n",
    "        for i in range(1, 33):\n",
    "            df_base[i + 1] += df_base[i]\n",
    "            \n",
    "        df_base = df_base.shift(1, axis=1).loc[:, 1:].astype('int32')\n",
    "        df_base = df_base.melt(var_name='date_block_num', value_name='total_cnt', ignore_index=False)\n",
    "        \n",
    "        df = df.merge(df_base, how='left', on=self.idx_columns)\n",
    "        \n",
    "        del df_base\n",
    "        \n",
    "        return df\n",
    "    \n",
    "    def add_item_lags(self, df, feature_name, nlags=3, keepnans=False, dnc=False):\n",
    "        \n",
    "        if self.info: print('Adding item lags for', feature_name, '...')\n",
    "    \n",
    "        df_tmp = df[['date_block_num', 'shop_id', 'item_id', feature_name]]\n",
    "    \n",
    "        for i in range(nlags, 0, -1):\n",
    "        \n",
    "            lag_feature_name = feature_name +'_lag-' + str(i)\n",
    "            if not dnc: self.lag_names_to_clip.append(lag_feature_name)\n",
    "        \n",
    "            df_shifted = df_tmp.copy()\n",
    "            df_shifted.columns = ['date_block_num', 'shop_id', 'item_id', lag_feature_name]\n",
    "            df_shifted['date_block_num'] += i\n",
    "            df = pd.merge(df, df_shifted, on=['date_block_num', 'shop_id', 'item_id'], how='left')\n",
    "            \n",
    "            if keepnans:\n",
    "                df[lag_feature_name] = df[lag_feature_name].astype('float32')\n",
    "            else:\n",
    "                df[lag_feature_name] = df[lag_feature_name].fillna(0).astype('float32')\n",
    "        \n",
    "        del df_tmp\n",
    "    \n",
    "        return df\n",
    "    \n",
    "    def add_shop_lags(self, df, feature_name, nlags=3, dnc=False):\n",
    "        \n",
    "        mean_feature_name = feature_name + '_mean'\n",
    "        \n",
    "        if self.info: print('Adding lags for', mean_feature_name, '...')\n",
    "    \n",
    "        df_tmp = df[['date_block_num', 'shop_id', feature_name, mean_feature_name]]\n",
    "    \n",
    "        for i in range(nlags, 0, -1):\n",
    "        \n",
    "            lag_feature_name = mean_feature_name + '_lag-' + str(i)\n",
    "            if not dnc: self.lag_names_to_clip.append(lag_feature_name)\n",
    "        \n",
    "            df_shifted = df_tmp.copy()\n",
    "            df_shifted.columns = ['date_block_num', 'shop_id', feature_name, lag_feature_name]\n",
    "            df_shifted['date_block_num'] += i\n",
    "            df = pd.merge(df, df_shifted.drop_duplicates(), on=['date_block_num', 'shop_id', feature_name], how='left')\n",
    "            df[lag_feature_name] = df[lag_feature_name].fillna(0).astype('float32')\n",
    "        \n",
    "        del df_tmp\n",
    "        del df_shifted\n",
    "    \n",
    "        return df\n",
    "    \n",
    "    def shop_clustering(self, df_work):\n",
    "        \n",
    "        # Clustering algorithm can be defined at run time\n",
    "        \n",
    "        print('No shop clusters provided')\n",
    "        \n",
    "        return df_work\n",
    "    \n",
    "    def build_work_db(self, hd, item_mean_features = [], shop_mean_features = [], add_total_cnt = False):\n",
    "        \n",
    "        if self.info: print('Building work dataframe...')\n",
    "        \n",
    "        df_work = self.df_train_ext.copy()\n",
    "        \n",
    "        df_work = self.add_item_means(df_work)\n",
    "        \n",
    "        for mf in item_mean_features:\n",
    "            \n",
    "            df_work = self.add_item_means(df_work, mf)\n",
    "            \n",
    "        for mf in shop_mean_features:\n",
    "            \n",
    "            df_work = self.add_shop_means(df_work, mf)\n",
    "        \n",
    "        # Critical point: True or False (Affects qmean calculation)\n",
    "        df_work = self.add_item_lags(df_work, 'item_cnt_month', hd, keepnans=False)\n",
    "        df_work = self.add_item_lags(df_work, 'item_rate_month', hd, dnc=True)\n",
    "        df_work = self.add_item_lags(df_work, 'item_price', hd, dnc=True)\n",
    "            \n",
    "        for mf in self.item_mean_features:\n",
    "            \n",
    "            df_work = self.add_item_lags(df_work, mf, hd)\n",
    "            \n",
    "        for mf in self.shop_mean_features:\n",
    "            \n",
    "            df_work = self.add_shop_lags(df_work, mf, hd)\n",
    "        \n",
    "        df_work.drop(df_work[df_work['date_block_num'] < hd].index, inplace=True)\n",
    "        \n",
    "        df_work.drop(self.item_mean_features, axis=1, inplace=True)\n",
    "        df_work.drop(['item_category_id_mean', 'item_price', 'item_rate_month'], axis=1, inplace=True)\n",
    "        \n",
    "        self.item_mean_features = []\n",
    "        self.shop_mean_features = []\n",
    "        \n",
    "    \n",
    "        df_work['qmean'] = df_work[['item_cnt_month_lag-1', \n",
    "                                    'item_cnt_month_lag-2', \n",
    "                                    'item_cnt_month_lag-3']].mean(skipna=True, axis=1)\n",
    "        \n",
    "        df_work['new'] = df_work['fsb'] ==  df_work['date_block_num']\n",
    "        \n",
    "        df_work['fsb'] = df_work['date_block_num'] - df_work['fsb']\n",
    "        df_work['ssbn'] = df_work['date_block_num'] - df_work['ssbn']\n",
    "        \n",
    "        df_work['month'] = (df_work['date_block_num']%12).astype('int8')\n",
    "        \n",
    "        \n",
    "        idx = df_work[(df_work['item_price_lag-1'] == 0) & (df_work['item_price_lag-2'] != 0)].index\n",
    "        df_work.loc[idx, 'item_price_lag-1'] = df_work.loc[idx, 'item_price_lag-2']\n",
    "        idx = df_work[(df_work['item_price_lag-2'] == 0) & (df_work['item_price_lag-3'] != 0)].index\n",
    "        df_work.loc[idx, 'item_price_lag-2'] = df_work.loc[idx, 'item_price_lag-3']\n",
    "        \n",
    "        df_work['grad-1'] = df_work['item_cnt_month_lag-1']/df_work['item_cnt_month_lag-2']\n",
    "        df_work['grad-1'] = df_work['grad-1'].replace([np.inf, -np.inf], np.nan).fillna(0.)\n",
    "\n",
    "        df_work['grad-2'] = df_work['item_cnt_month_lag-2']/df_work['item_cnt_month_lag-3']\n",
    "        df_work['grad-2'] = df_work['grad-2'].replace([np.inf, -np.inf], np.nan).fillna(0.)\n",
    "        \n",
    "        # Shop clustering\n",
    "        \n",
    "        df_work = self.shop_clustering(df_work)\n",
    "        \n",
    "        # Moving total\n",
    "        \n",
    "        if add_total_cnt: df_work = self.add_total_cnt(df_work)\n",
    "            \n",
    "        # Clipping    \n",
    "  \n",
    "        col2clip = ['item_cnt_month', 'qmean'] + self.lag_names_to_clip\n",
    "        df_work[col2clip] = df_work[col2clip].clip(0, 20)\n",
    "        \n",
    "        return df_work\n",
    "    \n",
    "    def get_work_db(self, hd = 3, item_mean_features = [], \n",
    "                                  shop_mean_features = [], \n",
    "                                  drop_features = None,\n",
    "                                  add_total_cnt = False):\n",
    "        \n",
    "        df_work = self.build_work_db(hd, item_mean_features, shop_mean_features, add_total_cnt)\n",
    "\n",
    "        if drop_features == None:\n",
    "            return df_work\n",
    "        else:\n",
    "            return df_work.drop(drop_features, axis = 1)"
   ]
  },
  {
   "cell_type": "code",
   "execution_count": 9,
   "id": "f9446f55",
   "metadata": {
    "execution": {
     "iopub.execute_input": "2022-11-06T15:47:01.348296Z",
     "iopub.status.busy": "2022-11-06T15:47:01.347877Z",
     "iopub.status.idle": "2022-11-06T15:47:32.959034Z",
     "shell.execute_reply": "2022-11-06T15:47:32.957680Z"
    },
    "papermill": {
     "duration": 31.632555,
     "end_time": "2022-11-06T15:47:32.970660",
     "exception": false,
     "start_time": "2022-11-06T15:47:01.338105",
     "status": "completed"
    },
    "tags": []
   },
   "outputs": [
    {
     "name": "stdout",
     "output_type": "stream",
     "text": [
      "Cleaning train dataframe... ( Mode - total )\n",
      "Building index dataframe...\n",
      "Aggregation...\n",
      "CPU times: user 26.5 s, sys: 5.14 s, total: 31.6 s\n",
      "Wall time: 31.6 s\n"
     ]
    }
   ],
   "source": [
    "%%time\n",
    "\n",
    "pfs = TT_Extended(df_train, df_test, items, df_shops, calendar, cmode='total')"
   ]
  },
  {
   "cell_type": "code",
   "execution_count": 10,
   "id": "1cc24f35",
   "metadata": {
    "execution": {
     "iopub.execute_input": "2022-11-06T15:47:32.990959Z",
     "iopub.status.busy": "2022-11-06T15:47:32.990554Z",
     "iopub.status.idle": "2022-11-06T15:47:33.003144Z",
     "shell.execute_reply": "2022-11-06T15:47:33.002068Z"
    },
    "papermill": {
     "duration": 0.025645,
     "end_time": "2022-11-06T15:47:33.006139",
     "exception": false,
     "start_time": "2022-11-06T15:47:32.980494",
     "status": "completed"
    },
    "tags": []
   },
   "outputs": [
    {
     "name": "stdout",
     "output_type": "stream",
     "text": [
      "<class 'pandas.core.frame.DataFrame'>\n",
      "Int64Index: 10987637 entries, 0 to 10987636\n",
      "Data columns (total 15 columns):\n",
      " #   Column            Dtype  \n",
      "---  ------            -----  \n",
      " 0   date_block_num    int32  \n",
      " 1   shop_id           int32  \n",
      " 2   item_id           int32  \n",
      " 3   item_price        float32\n",
      " 4   item_cnt_month    float32\n",
      " 5   item_rate_month   float32\n",
      " 6   city_enc          int8   \n",
      " 7   city_size         float32\n",
      " 8   mdays             int16  \n",
      " 9   wdays             int16  \n",
      " 10  hdays             int16  \n",
      " 11  item_category_id  int32  \n",
      " 12  hl_cat_id         int32  \n",
      " 13  fsb               int8   \n",
      " 14  ssbn              int8   \n",
      "dtypes: float32(4), int16(3), int32(5), int8(3)\n",
      "memory usage: 555.4 MB\n"
     ]
    }
   ],
   "source": [
    "pfs.df_train_ext.info()"
   ]
  },
  {
   "cell_type": "code",
   "execution_count": 11,
   "id": "d324bf2f",
   "metadata": {
    "execution": {
     "iopub.execute_input": "2022-11-06T15:47:33.025695Z",
     "iopub.status.busy": "2022-11-06T15:47:33.025258Z",
     "iopub.status.idle": "2022-11-06T15:47:33.030040Z",
     "shell.execute_reply": "2022-11-06T15:47:33.028819Z"
    },
    "papermill": {
     "duration": 0.017289,
     "end_time": "2022-11-06T15:47:33.032487",
     "exception": false,
     "start_time": "2022-11-06T15:47:33.015198",
     "status": "completed"
    },
    "tags": []
   },
   "outputs": [],
   "source": [
    "#-----------------------------------------------------"
   ]
  },
  {
   "cell_type": "code",
   "execution_count": 12,
   "id": "747c5246",
   "metadata": {
    "execution": {
     "iopub.execute_input": "2022-11-06T15:47:33.051758Z",
     "iopub.status.busy": "2022-11-06T15:47:33.051314Z",
     "iopub.status.idle": "2022-11-06T15:47:33.060498Z",
     "shell.execute_reply": "2022-11-06T15:47:33.059122Z"
    },
    "papermill": {
     "duration": 0.021817,
     "end_time": "2022-11-06T15:47:33.063043",
     "exception": false,
     "start_time": "2022-11-06T15:47:33.041226",
     "status": "completed"
    },
    "tags": []
   },
   "outputs": [],
   "source": [
    "# Define shop clustering methods\n",
    "\n",
    "def simple_shop_clustering(df_work):\n",
    "    \n",
    "    noisy_shops = [25, 31, 42]\n",
    "    df_work['shop_group'] = df_work['shop_id'].isin(noisy_shops)\n",
    "    \n",
    "    return df_work\n",
    "\n",
    "def knn_shop_clustering(df_work):\n",
    "    \n",
    "    df_sg = pd.pivot_table(df_work[df_work['item_cnt_month'] != 0], \n",
    "                           values='item_cnt_month', index=['shop_id'], \n",
    "                           columns = 'date_block_num', aggfunc='count', fill_value = 0)\n",
    "    \n",
    "    kmeans = KMeans(n_clusters=6, random_state=0).fit(df_sg)\n",
    "    df_sg['shop_group'] = kmeans.labels_.astype('int8')\n",
    "    df_work['shop_group'] = df_work['shop_id'].map(df_sg['shop_group'])\n",
    "    \n",
    "    del df_sg\n",
    "    \n",
    "    assert list(df_work[df_work['shop_group'].isna()]['shop_id'].unique()) == [], 'Missing shop found'\n",
    "    \n",
    "    return df_work"
   ]
  },
  {
   "cell_type": "code",
   "execution_count": 13,
   "id": "64894523",
   "metadata": {
    "execution": {
     "iopub.execute_input": "2022-11-06T15:47:33.082276Z",
     "iopub.status.busy": "2022-11-06T15:47:33.081879Z",
     "iopub.status.idle": "2022-11-06T15:47:33.086769Z",
     "shell.execute_reply": "2022-11-06T15:47:33.085799Z"
    },
    "papermill": {
     "duration": 0.017056,
     "end_time": "2022-11-06T15:47:33.088941",
     "exception": false,
     "start_time": "2022-11-06T15:47:33.071885",
     "status": "completed"
    },
    "tags": []
   },
   "outputs": [],
   "source": [
    "pfs.shop_clustering = simple_shop_clustering"
   ]
  },
  {
   "cell_type": "code",
   "execution_count": 14,
   "id": "36775434",
   "metadata": {
    "execution": {
     "iopub.execute_input": "2022-11-06T15:47:33.108236Z",
     "iopub.status.busy": "2022-11-06T15:47:33.107801Z",
     "iopub.status.idle": "2022-11-06T15:50:44.903123Z",
     "shell.execute_reply": "2022-11-06T15:50:44.901864Z"
    },
    "papermill": {
     "duration": 191.808115,
     "end_time": "2022-11-06T15:50:44.905947",
     "exception": false,
     "start_time": "2022-11-06T15:47:33.097832",
     "status": "completed"
    },
    "tags": []
   },
   "outputs": [
    {
     "name": "stdout",
     "output_type": "stream",
     "text": [
      "Building work dataframe...\n",
      "Adding item means for item_cnt ...\n",
      "Adding item means for city_enc ...\n",
      "Adding shop means for item_category_id ...\n",
      "Adding item lags for item_cnt_month ...\n",
      "Adding item lags for item_rate_month ...\n",
      "Adding item lags for item_price ...\n",
      "Adding item lags for item_cnt_mean ...\n",
      "Adding item lags for city_enc_mean ...\n",
      "Adding lags for item_category_id_mean ...\n",
      "CPU times: user 2min 32s, sys: 39.3 s, total: 3min 11s\n",
      "Wall time: 3min 11s\n"
     ]
    }
   ],
   "source": [
    "%%time\n",
    "\n",
    "df_work = pfs.get_work_db(hd = 3, \n",
    "                          item_mean_features = ['city_enc'], \n",
    "                          shop_mean_features = ['item_category_id'], \n",
    "                          drop_features = ['wdays', 'hdays', 'ssbn'],\n",
    "                          add_total_cnt = False).copy()"
   ]
  },
  {
   "cell_type": "code",
   "execution_count": 15,
   "id": "c6b5cdd7",
   "metadata": {
    "execution": {
     "iopub.execute_input": "2022-11-06T15:50:44.927386Z",
     "iopub.status.busy": "2022-11-06T15:50:44.926346Z",
     "iopub.status.idle": "2022-11-06T15:50:44.943604Z",
     "shell.execute_reply": "2022-11-06T15:50:44.942501Z"
    },
    "papermill": {
     "duration": 0.030764,
     "end_time": "2022-11-06T15:50:44.946262",
     "exception": false,
     "start_time": "2022-11-06T15:50:44.915498",
     "status": "completed"
    },
    "tags": []
   },
   "outputs": [
    {
     "name": "stdout",
     "output_type": "stream",
     "text": [
      "<class 'pandas.core.frame.DataFrame'>\n",
      "Int64Index: 9866074 entries, 1121563 to 10987636\n",
      "Data columns (total 34 columns):\n",
      " #   Column                       Dtype  \n",
      "---  ------                       -----  \n",
      " 0   date_block_num               int32  \n",
      " 1   shop_id                      int32  \n",
      " 2   item_id                      int32  \n",
      " 3   item_cnt_month               float32\n",
      " 4   city_enc                     int8   \n",
      " 5   city_size                    float32\n",
      " 6   mdays                        int16  \n",
      " 7   item_category_id             int32  \n",
      " 8   hl_cat_id                    int32  \n",
      " 9   fsb                          int32  \n",
      " 10  item_cnt_month_lag-3         float32\n",
      " 11  item_cnt_month_lag-2         float32\n",
      " 12  item_cnt_month_lag-1         float32\n",
      " 13  item_rate_month_lag-3        float32\n",
      " 14  item_rate_month_lag-2        float32\n",
      " 15  item_rate_month_lag-1        float32\n",
      " 16  item_price_lag-3             float32\n",
      " 17  item_price_lag-2             float32\n",
      " 18  item_price_lag-1             float32\n",
      " 19  item_cnt_mean_lag-3          float32\n",
      " 20  item_cnt_mean_lag-2          float32\n",
      " 21  item_cnt_mean_lag-1          float32\n",
      " 22  city_enc_mean_lag-3          float32\n",
      " 23  city_enc_mean_lag-2          float32\n",
      " 24  city_enc_mean_lag-1          float32\n",
      " 25  item_category_id_mean_lag-3  float32\n",
      " 26  item_category_id_mean_lag-2  float32\n",
      " 27  item_category_id_mean_lag-1  float32\n",
      " 28  qmean                        float32\n",
      " 29  new                          bool   \n",
      " 30  month                        int8   \n",
      " 31  grad-1                       float64\n",
      " 32  grad-2                       float64\n",
      " 33  shop_group                   bool   \n",
      "dtypes: bool(2), float32(21), float64(2), int16(1), int32(6), int8(2)\n",
      "memory usage: 1.5 GB\n"
     ]
    }
   ],
   "source": [
    "df_work.info()"
   ]
  },
  {
   "cell_type": "code",
   "execution_count": 16,
   "id": "557e3066",
   "metadata": {
    "execution": {
     "iopub.execute_input": "2022-11-06T15:50:44.967310Z",
     "iopub.status.busy": "2022-11-06T15:50:44.966602Z",
     "iopub.status.idle": "2022-11-06T15:50:44.971879Z",
     "shell.execute_reply": "2022-11-06T15:50:44.970708Z"
    },
    "papermill": {
     "duration": 0.018612,
     "end_time": "2022-11-06T15:50:44.974467",
     "exception": false,
     "start_time": "2022-11-06T15:50:44.955855",
     "status": "completed"
    },
    "tags": []
   },
   "outputs": [],
   "source": [
    "#-----------------------------------------------------"
   ]
  },
  {
   "cell_type": "code",
   "execution_count": 17,
   "id": "557434da",
   "metadata": {
    "execution": {
     "iopub.execute_input": "2022-11-06T15:50:44.995263Z",
     "iopub.status.busy": "2022-11-06T15:50:44.994825Z",
     "iopub.status.idle": "2022-11-06T15:50:45.000235Z",
     "shell.execute_reply": "2022-11-06T15:50:44.998934Z"
    },
    "papermill": {
     "duration": 0.01854,
     "end_time": "2022-11-06T15:50:45.002560",
     "exception": false,
     "start_time": "2022-11-06T15:50:44.984020",
     "status": "completed"
    },
    "tags": []
   },
   "outputs": [],
   "source": [
    "# New features to test"
   ]
  },
  {
   "cell_type": "code",
   "execution_count": 18,
   "id": "520a1bdd",
   "metadata": {
    "execution": {
     "iopub.execute_input": "2022-11-06T15:50:45.023224Z",
     "iopub.status.busy": "2022-11-06T15:50:45.022762Z",
     "iopub.status.idle": "2022-11-06T15:50:45.068775Z",
     "shell.execute_reply": "2022-11-06T15:50:45.067433Z"
    },
    "papermill": {
     "duration": 0.059755,
     "end_time": "2022-11-06T15:50:45.071779",
     "exception": false,
     "start_time": "2022-11-06T15:50:45.012024",
     "status": "completed"
    },
    "tags": []
   },
   "outputs": [],
   "source": [
    "df_work['city_size'] = df_work['city_size'].round(1) # less noisy"
   ]
  },
  {
   "cell_type": "code",
   "execution_count": 19,
   "id": "9c313395",
   "metadata": {
    "execution": {
     "iopub.execute_input": "2022-11-06T15:50:45.093089Z",
     "iopub.status.busy": "2022-11-06T15:50:45.092652Z",
     "iopub.status.idle": "2022-11-06T15:50:45.098876Z",
     "shell.execute_reply": "2022-11-06T15:50:45.097669Z"
    },
    "papermill": {
     "duration": 0.019491,
     "end_time": "2022-11-06T15:50:45.101266",
     "exception": false,
     "start_time": "2022-11-06T15:50:45.081775",
     "status": "completed"
    },
    "tags": []
   },
   "outputs": [],
   "source": [
    "#-----------------------------------------------------"
   ]
  },
  {
   "cell_type": "code",
   "execution_count": 20,
   "id": "7dbf145e",
   "metadata": {
    "execution": {
     "iopub.execute_input": "2022-11-06T15:50:45.122166Z",
     "iopub.status.busy": "2022-11-06T15:50:45.121725Z",
     "iopub.status.idle": "2022-11-06T15:50:45.127166Z",
     "shell.execute_reply": "2022-11-06T15:50:45.125887Z"
    },
    "papermill": {
     "duration": 0.018673,
     "end_time": "2022-11-06T15:50:45.129579",
     "exception": false,
     "start_time": "2022-11-06T15:50:45.110906",
     "status": "completed"
    },
    "tags": []
   },
   "outputs": [],
   "source": [
    "# Train"
   ]
  },
  {
   "cell_type": "code",
   "execution_count": 21,
   "id": "785f3815",
   "metadata": {
    "execution": {
     "iopub.execute_input": "2022-11-06T15:50:45.150217Z",
     "iopub.status.busy": "2022-11-06T15:50:45.149817Z",
     "iopub.status.idle": "2022-11-06T15:50:48.615909Z",
     "shell.execute_reply": "2022-11-06T15:50:48.615004Z"
    },
    "papermill": {
     "duration": 3.47948,
     "end_time": "2022-11-06T15:50:48.618514",
     "exception": false,
     "start_time": "2022-11-06T15:50:45.139034",
     "status": "completed"
    },
    "tags": []
   },
   "outputs": [],
   "source": [
    "X_train = df_work[df_work.date_block_num < 33].drop(['item_cnt_month'], axis=1)\n",
    "y_train = df_work[df_work.date_block_num < 33]['item_cnt_month']\n",
    "X_valid = df_work[df_work.date_block_num == 33].drop(['item_cnt_month'], axis=1)\n",
    "y_valid = df_work[df_work.date_block_num == 33]['item_cnt_month']\n",
    "X_test = df_work[df_work.date_block_num == 34].drop(['item_cnt_month'], axis=1)"
   ]
  },
  {
   "cell_type": "code",
   "execution_count": 22,
   "id": "611f63e3",
   "metadata": {
    "execution": {
     "iopub.execute_input": "2022-11-06T15:50:48.638818Z",
     "iopub.status.busy": "2022-11-06T15:50:48.638115Z",
     "iopub.status.idle": "2022-11-06T15:50:48.650662Z",
     "shell.execute_reply": "2022-11-06T15:50:48.649373Z"
    },
    "papermill": {
     "duration": 0.02632,
     "end_time": "2022-11-06T15:50:48.654029",
     "exception": false,
     "start_time": "2022-11-06T15:50:48.627709",
     "status": "completed"
    },
    "tags": []
   },
   "outputs": [
    {
     "name": "stdout",
     "output_type": "stream",
     "text": [
      "<class 'pandas.core.frame.DataFrame'>\n",
      "Int64Index: 9430114 entries, 1121563 to 10551676\n",
      "Data columns (total 33 columns):\n",
      " #   Column                       Dtype  \n",
      "---  ------                       -----  \n",
      " 0   date_block_num               int32  \n",
      " 1   shop_id                      int32  \n",
      " 2   item_id                      int32  \n",
      " 3   city_enc                     int8   \n",
      " 4   city_size                    float32\n",
      " 5   mdays                        int16  \n",
      " 6   item_category_id             int32  \n",
      " 7   hl_cat_id                    int32  \n",
      " 8   fsb                          int32  \n",
      " 9   item_cnt_month_lag-3         float32\n",
      " 10  item_cnt_month_lag-2         float32\n",
      " 11  item_cnt_month_lag-1         float32\n",
      " 12  item_rate_month_lag-3        float32\n",
      " 13  item_rate_month_lag-2        float32\n",
      " 14  item_rate_month_lag-1        float32\n",
      " 15  item_price_lag-3             float32\n",
      " 16  item_price_lag-2             float32\n",
      " 17  item_price_lag-1             float32\n",
      " 18  item_cnt_mean_lag-3          float32\n",
      " 19  item_cnt_mean_lag-2          float32\n",
      " 20  item_cnt_mean_lag-1          float32\n",
      " 21  city_enc_mean_lag-3          float32\n",
      " 22  city_enc_mean_lag-2          float32\n",
      " 23  city_enc_mean_lag-1          float32\n",
      " 24  item_category_id_mean_lag-3  float32\n",
      " 25  item_category_id_mean_lag-2  float32\n",
      " 26  item_category_id_mean_lag-1  float32\n",
      " 27  qmean                        float32\n",
      " 28  new                          bool   \n",
      " 29  month                        int8   \n",
      " 30  grad-1                       float64\n",
      " 31  grad-2                       float64\n",
      " 32  shop_group                   bool   \n",
      "dtypes: bool(2), float32(20), float64(2), int16(1), int32(6), int8(2)\n",
      "memory usage: 1.2 GB\n"
     ]
    }
   ],
   "source": [
    "X_train.info()"
   ]
  },
  {
   "cell_type": "code",
   "execution_count": 23,
   "id": "b1c42606",
   "metadata": {
    "execution": {
     "iopub.execute_input": "2022-11-06T15:50:48.674199Z",
     "iopub.status.busy": "2022-11-06T15:50:48.673826Z",
     "iopub.status.idle": "2022-11-06T15:50:48.700979Z",
     "shell.execute_reply": "2022-11-06T15:50:48.699752Z"
    },
    "papermill": {
     "duration": 0.039552,
     "end_time": "2022-11-06T15:50:48.703146",
     "exception": false,
     "start_time": "2022-11-06T15:50:48.663594",
     "status": "completed"
    },
    "tags": []
   },
   "outputs": [],
   "source": [
    "# This cell was added to deal with Kaggle VM memory limitation\n",
    "del df_work"
   ]
  },
  {
   "cell_type": "code",
   "execution_count": 24,
   "id": "a52c5182",
   "metadata": {
    "execution": {
     "iopub.execute_input": "2022-11-06T15:50:48.722995Z",
     "iopub.status.busy": "2022-11-06T15:50:48.722298Z",
     "iopub.status.idle": "2022-11-06T15:50:48.729095Z",
     "shell.execute_reply": "2022-11-06T15:50:48.728124Z"
    },
    "papermill": {
     "duration": 0.019351,
     "end_time": "2022-11-06T15:50:48.731790",
     "exception": false,
     "start_time": "2022-11-06T15:50:48.712439",
     "status": "completed"
    },
    "tags": []
   },
   "outputs": [
    {
     "name": "stdout",
     "output_type": "stream",
     "text": [
      "CPU times: user 25 µs, sys: 0 ns, total: 25 µs\n",
      "Wall time: 28.8 µs\n"
     ]
    }
   ],
   "source": [
    "%%time\n",
    "\n",
    "feature_names = X_train.columns.tolist()\n",
    "\n",
    "params = {\n",
    "    'objective': 'mse',\n",
    "    'metric': 'rmse',\n",
    "    'num_leaves': 255,\n",
    "    'learning_rate': 0.005,\n",
    "    'feature_fraction': 0.75,\n",
    "    'bagging_fraction': 0.75,\n",
    "    'bagging_freq': 5,\n",
    "    'seed': 1,\n",
    "    'verbose': 1,\n",
    "    'force_row_wise' : True\n",
    "}\n",
    "\n",
    "categorical_feature_names = [ \n",
    "                            'item_category_id',\n",
    "                            'hl_cat_id', \n",
    "                            'city_enc',\n",
    "                            'month',\n",
    "                            'shop_group',\n",
    "                            'shop_id'\n",
    "                            ]\n",
    "\n"
   ]
  },
  {
   "cell_type": "code",
   "execution_count": 25,
   "id": "997e12a4",
   "metadata": {
    "execution": {
     "iopub.execute_input": "2022-11-06T15:50:48.751879Z",
     "iopub.status.busy": "2022-11-06T15:50:48.751084Z",
     "iopub.status.idle": "2022-11-06T15:50:49.258755Z",
     "shell.execute_reply": "2022-11-06T15:50:49.257442Z"
    },
    "papermill": {
     "duration": 0.520468,
     "end_time": "2022-11-06T15:50:49.261189",
     "exception": false,
     "start_time": "2022-11-06T15:50:48.740721",
     "status": "completed"
    },
    "tags": []
   },
   "outputs": [],
   "source": [
    "lgb_train = lgb.Dataset(X_train[feature_names], y_train, categorical_feature=None)\n",
    "lgb_eval  = lgb.Dataset(X_valid[feature_names], y_valid, categorical_feature=None, reference=lgb_train)\n",
    "\n"
   ]
  },
  {
   "cell_type": "code",
   "execution_count": 26,
   "id": "7753f6a1",
   "metadata": {
    "execution": {
     "iopub.execute_input": "2022-11-06T15:50:49.282681Z",
     "iopub.status.busy": "2022-11-06T15:50:49.281725Z",
     "iopub.status.idle": "2022-11-06T16:11:41.581568Z",
     "shell.execute_reply": "2022-11-06T16:11:41.579917Z"
    },
    "papermill": {
     "duration": 1252.313978,
     "end_time": "2022-11-06T16:11:41.584563",
     "exception": false,
     "start_time": "2022-11-06T15:50:49.270585",
     "status": "completed"
    },
    "tags": []
   },
   "outputs": [
    {
     "name": "stderr",
     "output_type": "stream",
     "text": [
      "/opt/conda/lib/python3.7/site-packages/lightgbm/engine.py:181: UserWarning: 'early_stopping_rounds' argument is deprecated and will be removed in a future release of LightGBM. Pass 'early_stopping()' callback via 'callbacks' argument instead.\n",
      "  _log_warning(\"'early_stopping_rounds' argument is deprecated and will be removed in a future release of LightGBM. \"\n",
      "/opt/conda/lib/python3.7/site-packages/lightgbm/engine.py:239: UserWarning: 'verbose_eval' argument is deprecated and will be removed in a future release of LightGBM. Pass 'log_evaluation()' callback via 'callbacks' argument instead.\n",
      "  _log_warning(\"'verbose_eval' argument is deprecated and will be removed in a future release of LightGBM. \"\n",
      "/opt/conda/lib/python3.7/site-packages/lightgbm/engine.py:260: UserWarning: 'evals_result' argument is deprecated and will be removed in a future release of LightGBM. Pass 'record_evaluation()' callback via 'callbacks' argument instead.\n",
      "  _log_warning(\"'evals_result' argument is deprecated and will be removed in a future release of LightGBM. \"\n"
     ]
    },
    {
     "name": "stdout",
     "output_type": "stream",
     "text": [
      "[LightGBM] [Info] Total Bins 3974\n",
      "[LightGBM] [Info] Number of data points in the train set: 9430114, number of used features: 33\n"
     ]
    },
    {
     "name": "stderr",
     "output_type": "stream",
     "text": [
      "/opt/conda/lib/python3.7/site-packages/lightgbm/basic.py:1780: UserWarning: Overriding the parameters from Reference Dataset.\n",
      "  _log_warning('Overriding the parameters from Reference Dataset.')\n",
      "/opt/conda/lib/python3.7/site-packages/lightgbm/basic.py:1513: UserWarning: categorical_column in param dict is overridden.\n",
      "  _log_warning(f'{cat_alias} in param dict is overridden.')\n"
     ]
    },
    {
     "name": "stdout",
     "output_type": "stream",
     "text": [
      "[LightGBM] [Info] Start training from score 0.296639\n",
      "Training until validation scores don't improve for 100 rounds\n",
      "[100]\ttraining's rmse: 1.00427\tvalid_1's rmse: 0.910748\n",
      "[200]\ttraining's rmse: 0.902168\tvalid_1's rmse: 0.838488\n",
      "[300]\ttraining's rmse: 0.849975\tvalid_1's rmse: 0.809085\n",
      "[400]\ttraining's rmse: 0.821418\tvalid_1's rmse: 0.7974\n",
      "[500]\ttraining's rmse: 0.803322\tvalid_1's rmse: 0.792811\n",
      "[600]\ttraining's rmse: 0.790384\tvalid_1's rmse: 0.791002\n",
      "[700]\ttraining's rmse: 0.780164\tvalid_1's rmse: 0.790361\n",
      "[800]\ttraining's rmse: 0.772023\tvalid_1's rmse: 0.789669\n",
      "[900]\ttraining's rmse: 0.765543\tvalid_1's rmse: 0.789225\n",
      "[1000]\ttraining's rmse: 0.759774\tvalid_1's rmse: 0.788949\n",
      "[1100]\ttraining's rmse: 0.754849\tvalid_1's rmse: 0.788772\n",
      "[1200]\ttraining's rmse: 0.750614\tvalid_1's rmse: 0.788715\n",
      "Early stopping, best iteration is:\n",
      "[1120]\ttraining's rmse: 0.753933\tvalid_1's rmse: 0.788641\n"
     ]
    }
   ],
   "source": [
    "evals_result = {}\n",
    "gbm = lgb.train(\n",
    "        params, \n",
    "        lgb_train,\n",
    "        num_boost_round = 4000,\n",
    "        valid_sets = (lgb_train, lgb_eval), \n",
    "        feature_name = feature_names,\n",
    "        categorical_feature = categorical_feature_names,\n",
    "        verbose_eval = 100, \n",
    "        evals_result = evals_result,\n",
    "        early_stopping_rounds = 100)"
   ]
  },
  {
   "cell_type": "code",
   "execution_count": 27,
   "id": "bbbf44ad",
   "metadata": {
    "execution": {
     "iopub.execute_input": "2022-11-06T16:11:41.610335Z",
     "iopub.status.busy": "2022-11-06T16:11:41.609199Z",
     "iopub.status.idle": "2022-11-06T16:11:42.402664Z",
     "shell.execute_reply": "2022-11-06T16:11:42.401330Z"
    },
    "papermill": {
     "duration": 0.810313,
     "end_time": "2022-11-06T16:11:42.406035",
     "exception": false,
     "start_time": "2022-11-06T16:11:41.595722",
     "status": "completed"
    },
    "tags": []
   },
   "outputs": [
    {
     "data": {
      "image/png": "[encoded data removed]",
      "text/plain": [
       "<Figure size 864x576 with 1 Axes>"
      ]
     },
     "metadata": {
      "needs_background": "light"
     },
     "output_type": "display_data"
    }
   ],
   "source": [
    "lgb.plot_importance(\n",
    "    gbm, \n",
    "    max_num_features=50, \n",
    "    importance_type='gain', \n",
    "    figsize=(12,8));"
   ]
  },
  {
   "cell_type": "code",
   "execution_count": 28,
   "id": "bfb62251",
   "metadata": {
    "execution": {
     "iopub.execute_input": "2022-11-06T16:11:42.434172Z",
     "iopub.status.busy": "2022-11-06T16:11:42.433732Z",
     "iopub.status.idle": "2022-11-06T16:11:59.101285Z",
     "shell.execute_reply": "2022-11-06T16:11:59.100310Z"
    },
    "papermill": {
     "duration": 16.684557,
     "end_time": "2022-11-06T16:11:59.104044",
     "exception": false,
     "start_time": "2022-11-06T16:11:42.419487",
     "status": "completed"
    },
    "tags": []
   },
   "outputs": [],
   "source": [
    "sample_submission['item_cnt_month'] = gbm.predict(X_test[feature_names]).clip(0, 20)\n",
    "sample_submission.to_csv('submission_k4.csv')"
   ]
  },
  {
   "cell_type": "code",
   "execution_count": null,
   "id": "84f97bd8",
   "metadata": {
    "papermill": {
     "duration": 0.011886,
     "end_time": "2022-11-06T16:11:59.129132",
     "exception": false,
     "start_time": "2022-11-06T16:11:59.117246",
     "status": "completed"
    },
    "tags": []
   },
   "outputs": [],
   "source": []
  },
  {
   "cell_type": "code",
   "execution_count": null,
   "id": "0f31b09c",
   "metadata": {
    "papermill": {
     "duration": 0.011536,
     "end_time": "2022-11-06T16:11:59.152707",
     "exception": false,
     "start_time": "2022-11-06T16:11:59.141171",
     "status": "completed"
    },
    "tags": []
   },
   "outputs": [],
   "source": []
  },
  {
   "cell_type": "code",
   "execution_count": null,
   "id": "a96a3b2b",
   "metadata": {
    "papermill": {
     "duration": 0.011941,
     "end_time": "2022-11-06T16:11:59.176523",
     "exception": false,
     "start_time": "2022-11-06T16:11:59.164582",
     "status": "completed"
    },
    "tags": []
   },
   "outputs": [],
   "source": []
  },
  {
   "cell_type": "code",
   "execution_count": null,
   "id": "015d9239",
   "metadata": {
    "papermill": {
     "duration": 0.011528,
     "end_time": "2022-11-06T16:11:59.199795",
     "exception": false,
     "start_time": "2022-11-06T16:11:59.188267",
     "status": "completed"
    },
    "tags": []
   },
   "outputs": [],
   "source": []
  },
  {
   "cell_type": "code",
   "execution_count": null,
   "id": "5c30e0dc",
   "metadata": {
    "papermill": {
     "duration": 0.011381,
     "end_time": "2022-11-06T16:11:59.222906",
     "exception": false,
     "start_time": "2022-11-06T16:11:59.211525",
     "status": "completed"
    },
    "tags": []
   },
   "outputs": [],
   "source": []
  }
 ],
 "metadata": {
  "kernelspec": {
   "display_name": "Python 3",
   "language": "python",
   "name": "python3"
  },
  "language_info": {
   "codemirror_mode": {
    "name": "ipython",
    "version": 3
   },
   "file_extension": ".py",
   "mimetype": "text/x-python",
   "name": "python",
   "nbconvert_exporter": "python",
   "pygments_lexer": "ipython3",
   "version": "3.7.12"
  },
  "papermill": {
   "default_parameters": {},
   "duration": 1512.712256,
   "end_time": "2022-11-06T16:12:00.060124",
   "environment_variables": {},
   "exception": null,
   "input_path": "__notebook__.ipynb",
   "output_path": "__notebook__.ipynb",
   "parameters": {},
   "start_time": "2022-11-06T15:46:47.347868",
   "version": "2.3.4"
  }
 },
 "nbformat": 4,
 "nbformat_minor": 5
}
